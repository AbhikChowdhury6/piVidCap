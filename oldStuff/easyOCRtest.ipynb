{
 "cells": [
  {
   "cell_type": "code",
   "execution_count": 1,
   "metadata": {},
   "outputs": [],
   "source": [
    "import easyocr\n",
    "import cv2\n",
    "\n",
    "testFile = '/media/chowder/abhiksFiles/personalData/wyzeCams/roomCamBy3dp/20201230/10/20.mp4'\n",
    "\n",
    "def prepFramesFromFile(fil):\n",
    "    cap = cv2.VideoCapture(fil)\n",
    "    frames = []\n",
    "    while cap.isOpened():\n",
    "        ret, frame = cap.read()\n",
    "        if not ret:\n",
    "            break\n",
    "        x1, y1 = 1350, 1000  # Starting coordinates\n",
    "        x2, y2 = 1900, 1080  # Ending coordinates\n",
    "        cropped_frame = frame[y1:y2, x1:x2]\n",
    "        image_resized = cv2.resize(cropped_frame, (cropped_frame.shape[1] // 2, cropped_frame.shape[0] // 2), interpolation=cv2.INTER_LINEAR)\n",
    "        frames.append(image_resized)\n",
    "    return enumerate(frames)"
   ]
  },
  {
   "cell_type": "code",
   "execution_count": 2,
   "metadata": {},
   "outputs": [],
   "source": [
    "# 18s for 901 full timesamps no resizing\n",
    "# 15s for 901 full timesamps 1/2 resizing\n",
    "def doOCR(reader, frames):\n",
    "    return enumerate([reader.readtext(frame) for frame in frames])"
   ]
  },
  {
   "cell_type": "code",
   "execution_count": 3,
   "metadata": {},
   "outputs": [],
   "source": [
    "# only keep didgits and add a T after the first 8 didgits\n",
    "def OCRtoISOString(OCRs):\n",
    "    timeStrings = []\n",
    "    for result in results:\n",
    "        justDidgits = \"\"\n",
    "        for (bbox, text, prob) in OCRs:\n",
    "            justDidgits = justDidgits + ''.join([char for char in text if char.isdigit()])\n",
    "            # print(text)\n",
    "        timeStrings.append(justDidgits[:8] + \"T\" + justDidgits[8:])\n"
   ]
  },
  {
   "cell_type": "code",
   "execution_count": 5,
   "metadata": {},
   "outputs": [],
   "source": [
    "# 60/sec processing 900 frames per video 34k videos about 6 days of processing\n",
    "\n",
    "# getting microsecond timestamp from timestamp\n",
    "\n",
    "# lets get a dataset of the strings of a few videos and test"
   ]
  },
  {
   "cell_type": "code",
   "execution_count": 6,
   "metadata": {},
   "outputs": [],
   "source": [
    "import os\n",
    "def getFileList(daysPath):\n",
    "    fileList = []\n",
    "    for dayFolder in os.listdir(daysPath):\n",
    "        hourFoldersPath = daysPath + dayFolder + '/'\n",
    "        for hourFolder in os.listdir(hourFoldersPath):\n",
    "            for minuteFile in os.listdir(hourFoldersPath + hourFolder + '/'):\n",
    "                # we are looking to build an iso timestring from this info\n",
    "                fileTime = dayFolder + \"T\" + hourFolder + minuteFile.split('.')[0] + \"00\"\n",
    "                fileList.append(fileTime)\n",
    "    return fileList\n",
    "def fileLocation(daysPath, fileListName):\n",
    "    return daysPath + fileListName[:8] + '/' + fileListName[9:11] + '/' + fileListName[12:14] + \".mp4\"\n",
    "daysPath = '/media/chowder/abhiksFiles/personalData/wyzeCams/roomCamBy3dp/'\n",
    "fl = getFileList(daysPath)"
   ]
  },
  {
   "cell_type": "code",
   "execution_count": 7,
   "metadata": {},
   "outputs": [],
   "source": [
    "reader = easyocr.Reader(['en'], gpu=True)"
   ]
  },
  {
   "cell_type": "code",
   "execution_count": 8,
   "metadata": {},
   "outputs": [],
   "source": [
    "def prepFramesFromFile(fil):\n",
    "    cap = cv2.VideoCapture(fil)\n",
    "    frames = []\n",
    "    while cap.isOpened():\n",
    "        ret, frame = cap.read()\n",
    "        if not ret:\n",
    "            break\n",
    "        x1, y1 = 1350, 1000  # Starting coordinates\n",
    "        x2, y2 = 1900, 1080  # Ending coordinates\n",
    "        cropped_frame = frame[y1:y2, x1:x2]\n",
    "        image_resized = cv2.resize(cropped_frame, (cropped_frame.shape[1] // 2, cropped_frame.shape[0] // 2), interpolation=cv2.INTER_LINEAR)\n",
    "        frames.append(image_resized)\n",
    "    return frames"
   ]
  },
  {
   "cell_type": "code",
   "execution_count": 9,
   "metadata": {},
   "outputs": [],
   "source": [
    "def doOCR(reader, frames):\n",
    "    return [reader.readtext(frame) for frame in frames]"
   ]
  },
  {
   "cell_type": "code",
   "execution_count": 10,
   "metadata": {},
   "outputs": [],
   "source": [
    "def OCRtoISOString(OCRs):\n",
    "    timeStrings = []\n",
    "    for result in OCRs:\n",
    "        justDidgits = \"\"\n",
    "        for (bbox, text, prob) in result:\n",
    "            justDidgits = justDidgits + ''.join([char for char in text if char.isdigit()])\n",
    "            # print(text)\n",
    "        timeStrings.append(justDidgits[:4] + # \"-\" +\n",
    "                            justDidgits[4:6] + # \"-\" +\n",
    "                            justDidgits[6:8] + \"T\" + justDidgits[8:])\n",
    "    return  timeStrings"
   ]
  },
  {
   "cell_type": "code",
   "execution_count": 19,
   "metadata": {},
   "outputs": [],
   "source": [
    "#overall structure\n",
    "#(fileListName, frame number, OCRtoISO)\n",
    "# OCRTimes = []\n",
    "for fileLisName in fl[10:50]:\n",
    "    fileLoc = fileLocation(daysPath, fileLisName)\n",
    "    frames = prepFramesFromFile(fileLoc)\n",
    "    OCRs = doOCR(reader, frames)\n",
    "    ISOstrings = OCRtoISOString(OCRs)\n",
    "    OCRTimes += [[fileLisName, frameNum, ISOstr] for frameNum, ISOstr in enumerate(ISOstrings)]"
   ]
  },
  {
   "cell_type": "code",
   "execution_count": 12,
   "metadata": {},
   "outputs": [
    {
     "data": {
      "text/html": [
       "<div>\n",
       "<style scoped>\n",
       "    .dataframe tbody tr th:only-of-type {\n",
       "        vertical-align: middle;\n",
       "    }\n",
       "\n",
       "    .dataframe tbody tr th {\n",
       "        vertical-align: top;\n",
       "    }\n",
       "\n",
       "    .dataframe thead th {\n",
       "        text-align: right;\n",
       "    }\n",
       "</style>\n",
       "<table border=\"1\" class=\"dataframe\">\n",
       "  <thead>\n",
       "    <tr style=\"text-align: right;\">\n",
       "      <th></th>\n",
       "      <th>fileName</th>\n",
       "      <th>frameNumber</th>\n",
       "      <th>OCRSecond</th>\n",
       "    </tr>\n",
       "  </thead>\n",
       "  <tbody>\n",
       "    <tr>\n",
       "      <th>0</th>\n",
       "      <td>20201230T102000</td>\n",
       "      <td>0</td>\n",
       "      <td>20201230T100001</td>\n",
       "    </tr>\n",
       "    <tr>\n",
       "      <th>1</th>\n",
       "      <td>20201230T102000</td>\n",
       "      <td>1</td>\n",
       "      <td>20201230T100001</td>\n",
       "    </tr>\n",
       "    <tr>\n",
       "      <th>2</th>\n",
       "      <td>20201230T102000</td>\n",
       "      <td>2</td>\n",
       "      <td>20201230T100001</td>\n",
       "    </tr>\n",
       "    <tr>\n",
       "      <th>3</th>\n",
       "      <td>20201230T102000</td>\n",
       "      <td>3</td>\n",
       "      <td>20201230T100001</td>\n",
       "    </tr>\n",
       "    <tr>\n",
       "      <th>4</th>\n",
       "      <td>20201230T102000</td>\n",
       "      <td>4</td>\n",
       "      <td>20201230T100001</td>\n",
       "    </tr>\n",
       "  </tbody>\n",
       "</table>\n",
       "</div>"
      ],
      "text/plain": [
       "          fileName  frameNumber        OCRSecond\n",
       "0  20201230T102000            0  20201230T100001\n",
       "1  20201230T102000            1  20201230T100001\n",
       "2  20201230T102000            2  20201230T100001\n",
       "3  20201230T102000            3  20201230T100001\n",
       "4  20201230T102000            4  20201230T100001"
      ]
     },
     "execution_count": 12,
     "metadata": {},
     "output_type": "execute_result"
    }
   ],
   "source": [
    "import pandas as pd\n",
    "columnNames = ['fileName', 'frameNumber', 'OCRSecond']\n",
    "ocrDf = pd.DataFrame(OCRTimes, columns=columnNames)\n",
    "ocrDf.head()"
   ]
  },
  {
   "cell_type": "code",
   "execution_count": 14,
   "metadata": {},
   "outputs": [
    {
     "data": {
      "text/plain": [
       "(6277, 3)"
      ]
     },
     "execution_count": 14,
     "metadata": {},
     "output_type": "execute_result"
    }
   ],
   "source": [
    "ocrDf.shape"
   ]
  },
  {
   "cell_type": "code",
   "execution_count": 18,
   "metadata": {},
   "outputs": [
    {
     "data": {
      "text/plain": [
       "(365,)"
      ]
     },
     "execution_count": 18,
     "metadata": {},
     "output_type": "execute_result"
    }
   ],
   "source": [
    "ocrDf['OCRSecond'].unique().shape"
   ]
  },
  {
   "cell_type": "code",
   "execution_count": 27,
   "metadata": {},
   "outputs": [],
   "source": [
    "ocrDf = ocrDf.drop('value', axis=1)"
   ]
  },
  {
   "cell_type": "code",
   "execution_count": 29,
   "metadata": {},
   "outputs": [
    {
     "data": {
      "text/html": [
       "<div>\n",
       "<style scoped>\n",
       "    .dataframe tbody tr th:only-of-type {\n",
       "        vertical-align: middle;\n",
       "    }\n",
       "\n",
       "    .dataframe tbody tr th {\n",
       "        vertical-align: top;\n",
       "    }\n",
       "\n",
       "    .dataframe thead th {\n",
       "        text-align: right;\n",
       "    }\n",
       "</style>\n",
       "<table border=\"1\" class=\"dataframe\">\n",
       "  <thead>\n",
       "    <tr style=\"text-align: right;\">\n",
       "      <th></th>\n",
       "      <th>fileName</th>\n",
       "      <th>frameNumber</th>\n",
       "      <th>OCRSecond</th>\n",
       "      <th>count</th>\n",
       "      <th>secOffset</th>\n",
       "    </tr>\n",
       "  </thead>\n",
       "  <tbody>\n",
       "    <tr>\n",
       "      <th>0</th>\n",
       "      <td>20201230T102000</td>\n",
       "      <td>0</td>\n",
       "      <td>20201230T100001</td>\n",
       "      <td>12</td>\n",
       "      <td>0.000000</td>\n",
       "    </tr>\n",
       "    <tr>\n",
       "      <th>1</th>\n",
       "      <td>20201230T102000</td>\n",
       "      <td>1</td>\n",
       "      <td>20201230T100001</td>\n",
       "      <td>12</td>\n",
       "      <td>0.083333</td>\n",
       "    </tr>\n",
       "    <tr>\n",
       "      <th>2</th>\n",
       "      <td>20201230T102000</td>\n",
       "      <td>2</td>\n",
       "      <td>20201230T100001</td>\n",
       "      <td>12</td>\n",
       "      <td>0.166667</td>\n",
       "    </tr>\n",
       "    <tr>\n",
       "      <th>3</th>\n",
       "      <td>20201230T102000</td>\n",
       "      <td>3</td>\n",
       "      <td>20201230T100001</td>\n",
       "      <td>12</td>\n",
       "      <td>0.250000</td>\n",
       "    </tr>\n",
       "    <tr>\n",
       "      <th>4</th>\n",
       "      <td>20201230T102000</td>\n",
       "      <td>4</td>\n",
       "      <td>20201230T100001</td>\n",
       "      <td>12</td>\n",
       "      <td>0.333333</td>\n",
       "    </tr>\n",
       "    <tr>\n",
       "      <th>...</th>\n",
       "      <td>...</td>\n",
       "      <td>...</td>\n",
       "      <td>...</td>\n",
       "      <td>...</td>\n",
       "      <td>...</td>\n",
       "    </tr>\n",
       "    <tr>\n",
       "      <th>95</th>\n",
       "      <td>20201230T102000</td>\n",
       "      <td>95</td>\n",
       "      <td>20201230T100007</td>\n",
       "      <td>30</td>\n",
       "      <td>3.166667</td>\n",
       "    </tr>\n",
       "    <tr>\n",
       "      <th>96</th>\n",
       "      <td>20201230T102000</td>\n",
       "      <td>96</td>\n",
       "      <td>20201230T100007</td>\n",
       "      <td>30</td>\n",
       "      <td>3.200000</td>\n",
       "    </tr>\n",
       "    <tr>\n",
       "      <th>97</th>\n",
       "      <td>20201230T102000</td>\n",
       "      <td>97</td>\n",
       "      <td>20201230T100007</td>\n",
       "      <td>30</td>\n",
       "      <td>3.233333</td>\n",
       "    </tr>\n",
       "    <tr>\n",
       "      <th>98</th>\n",
       "      <td>20201230T102000</td>\n",
       "      <td>98</td>\n",
       "      <td>20201230T100008</td>\n",
       "      <td>30</td>\n",
       "      <td>3.266667</td>\n",
       "    </tr>\n",
       "    <tr>\n",
       "      <th>99</th>\n",
       "      <td>20201230T102000</td>\n",
       "      <td>99</td>\n",
       "      <td>20201230T100008</td>\n",
       "      <td>30</td>\n",
       "      <td>3.300000</td>\n",
       "    </tr>\n",
       "  </tbody>\n",
       "</table>\n",
       "<p>100 rows × 5 columns</p>\n",
       "</div>"
      ],
      "text/plain": [
       "           fileName  frameNumber        OCRSecond  count  secOffset\n",
       "0   20201230T102000            0  20201230T100001     12   0.000000\n",
       "1   20201230T102000            1  20201230T100001     12   0.083333\n",
       "2   20201230T102000            2  20201230T100001     12   0.166667\n",
       "3   20201230T102000            3  20201230T100001     12   0.250000\n",
       "4   20201230T102000            4  20201230T100001     12   0.333333\n",
       "..              ...          ...              ...    ...        ...\n",
       "95  20201230T102000           95  20201230T100007     30   3.166667\n",
       "96  20201230T102000           96  20201230T100007     30   3.200000\n",
       "97  20201230T102000           97  20201230T100007     30   3.233333\n",
       "98  20201230T102000           98  20201230T100008     30   3.266667\n",
       "99  20201230T102000           99  20201230T100008     30   3.300000\n",
       "\n",
       "[100 rows x 5 columns]"
      ]
     },
     "execution_count": 29,
     "metadata": {},
     "output_type": "execute_result"
    }
   ],
   "source": [
    "# Count the number of occurrences of each unique string\n",
    "ocrDf['count'] = ocrDf.groupby('OCRSecond')['OCRSecond'].transform('count')\n",
    "\n",
    "# Create a new column with the value 1 / count\n",
    "ocrDf['secOffset'] = (1 / ocrDf['count']) * ocrDf['frameNumber']\n",
    "ocrDf.head(100)"
   ]
  },
  {
   "cell_type": "code",
   "execution_count": 31,
   "metadata": {},
   "outputs": [
    {
     "data": {
      "text/plain": [
       "array([12, 34, 30, 24, 36, 28, 18, 14, 15, 11, 16,  5,  2, 17,  7, 10,  3,\n",
       "       13])"
      ]
     },
     "execution_count": 31,
     "metadata": {},
     "output_type": "execute_result"
    }
   ],
   "source": [
    "ocrDf['count'].unique()"
   ]
  },
  {
   "cell_type": "code",
   "execution_count": 35,
   "metadata": {},
   "outputs": [
    {
     "data": {
      "text/plain": [
       "count\n",
       "15    3630\n",
       "30    1470\n",
       "18     306\n",
       "12     252\n",
       "14     196\n",
       "36     144\n",
       "24      96\n",
       "17      51\n",
       "34      34\n",
       "28      28\n",
       "16      16\n",
       "13      13\n",
       "11      11\n",
       "10      10\n",
       "7        7\n",
       "3        6\n",
       "5        5\n",
       "2        2\n",
       "Name: count, dtype: int64"
      ]
     },
     "execution_count": 35,
     "metadata": {},
     "output_type": "execute_result"
    }
   ],
   "source": [
    "ocrDf['count'].value_counts()"
   ]
  },
  {
   "cell_type": "code",
   "execution_count": null,
   "metadata": {},
   "outputs": [],
   "source": [
    "# now what would I like to do?\n",
    "# want to tell the approximate fps\n",
    "# count the number of elements for each key value'\n",
    "\n",
    "#use the fps to get an approximate microsecond offset per frame\n",
    "\n",
    "def calcApproxMicrosecond(ocrDf):\n",
    "    ocrDf\n",
    "    pass"
   ]
  },
  {
   "cell_type": "code",
   "execution_count": null,
   "metadata": {},
   "outputs": [],
   "source": []
  }
 ],
 "metadata": {
  "kernelspec": {
   "display_name": "vision",
   "language": "python",
   "name": "python3"
  },
  "language_info": {
   "codemirror_mode": {
    "name": "ipython",
    "version": 3
   },
   "file_extension": ".py",
   "mimetype": "text/x-python",
   "name": "python",
   "nbconvert_exporter": "python",
   "pygments_lexer": "ipython3",
   "version": "3.11.10"
  }
 },
 "nbformat": 4,
 "nbformat_minor": 2
}
