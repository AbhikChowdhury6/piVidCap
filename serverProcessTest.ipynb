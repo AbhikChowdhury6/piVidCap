{
 "cells": [
  {
   "cell_type": "code",
   "execution_count": null,
   "metadata": {},
   "outputs": [],
   "source": [
    "#in this file I'll\n",
    "\n",
    "# there'll be folders on the local computer /videoData/YYYY-MM/deviceName_YYYY-MM-DD\n",
    "\n",
    "# in 10 years there'd be a max of 10 * 12 * 5 * 30 * 480 * 2 \n",
    "# which is about 17 million files which does seem like a lot to check a lot\n",
    "# however within the first year for me it'll probs be more like\n",
    "# 12 * 2 * 30 * 480 * 2 = which is still 691k files damn\n",
    "\n",
    "# we'll first be adding the timestamps to a parquet for each device with columns\n",
    "# index, timestamp\n",
    "# the device name we can get from the name of the df\n",
    "# the location of the frame we can also look up\n",
    "# the location of the frame in the video we can also calculate based on the video name\n",
    "\n",
    "# once a parquet has been added we can delete it in the video store\n",
    "# honestly we can use the existance of a parquet to tell if a folder has been logged\n",
    "\n",
    "\n",
    "\n",
    "\n",
    "# the cameras will be moving their files into the folder"
   ]
  },
  {
   "cell_type": "code",
   "execution_count": null,
   "metadata": {},
   "outputs": [],
   "source": [
    "# there'll be a direcory called videoMetaData/\n",
    "# there'll be folders for each device?\n",
    "# then there'll be folders for each kind of processing\n",
    "#   time indexes, and why not, lets also put in file name and frame index\n",
    "#   just poses for now\n",
    "    # in the format time index, pose list object\n",
    "\n",
    "# also for the cameras lets build them up one use case at a time\n",
    "# general tracking multiclass classification\n",
    "#   sitting - bedroom\n",
    "#   standing\n",
    "#   lying down\n",
    "#   showering - bathroom\n",
    "#   pooping\n",
    "#   taking a shower\n",
    "#   brushing teeth\n",
    "#   putting corizone on\n",
    "#   making food - kitchen\n",
    "#   wiping nose - all\n",
    "\n",
    "# later I'll have a different set of cameras to help with facial analysis\n",
    "# I'll still have one recording I can test some processing strategies\n",
    "# at linux computer\n",
    "\n",
    "# "
   ]
  },
  {
   "cell_type": "code",
   "execution_count": null,
   "metadata": {},
   "outputs": [],
   "source": []
  }
 ],
 "metadata": {
  "language_info": {
   "name": "python"
  }
 },
 "nbformat": 4,
 "nbformat_minor": 2
}
