{
 "cells": [
  {
   "cell_type": "code",
   "execution_count": null,
   "metadata": {},
   "outputs": [],
   "source": [
    "# setup pi with device name and a generated password and stuff\n",
    "# generate an ssh keypair\n",
    "# run shh-copy-id and login to the processing server to transfer the pulic key\n",
    "\n",
    "# honestly the real solution to these security problem is to use a file server with api keys\n",
    "# zipping a days worth of files isn't even that computationally intense\n",
    "# the problem is how to limit the access to the server of someone who steals a camera\n",
    "\n",
    "# for now let's just sprinkle a little bit of security I've been wanting to do for a while\n",
    "# no passwords written anywhere\n",
    "# key based authentication\n",
    "# seperate somewhat minimly privelaged user"
   ]
  },
  {
   "cell_type": "code",
   "execution_count": null,
   "metadata": {},
   "outputs": [],
   "source": [
    "import os\n",
    "import subprocess\n",
    "import sys\n",
    "from datetime import datetime\n",
    "import tzlocal"
   ]
  },
  {
   "cell_type": "code",
   "execution_count": null,
   "metadata": {},
   "outputs": [],
   "source": [
    "deviceName = sys.argv[1] if len(sys.argv) > 0 else \"notSet\"\n",
    "\n",
    "\n",
    "pathToCollectedData = \"/home/\" + os.getlogin() + \"/Documents/collectedData/\"\n",
    "remotePathBase = \"/home/uploadingGuest/recentCaptures/\"\n",
    "\n",
    "foldersInCollectedData = os.listdir(pathToCollectedData)\n",
    "nameOfTodaysFolder = deviceName + \"-\" + datetime.now(tzlocal.get_localzone()).strftime(\"%Y-%m-%d%z\")\n",
    "for folderName in foldersInCollectedData:\n",
    "    if folderName == nameOfTodaysFolder:\n",
    "        continue\n",
    "    source = pathToCollectedData + folderName\n",
    "    remoteFolder = remotePathBase + folderName\n",
    "    \n",
    "    o = subprocess.run([\"ssh uploadingGuest@192.168.1.242 mkdir -p\", remoteFolder], capture_output=True)\n",
    "    print(f\"the returncode for making the direcotry was {o.returncode}\")\n",
    "    o = subprocess.run([\"scp -r \", source, \" uploadingGuest@192.168.1.242:\", remoteFolder], capture_output=True)\n",
    "    print(f\"the returncode for uploading the direcotry was {o.returncode}\")\n",
    "    \n",
    "    if o.returncode == 0:\n",
    "        print(f\"successfuly sent now deleting {source}\")\n",
    "        o = subprocess.run([\"rm -r \", source], capture_output=True)\n",
    "        print(\"deleted\") if o.returncode == 0 else print(o)\n",
    "    else:\n",
    "        print(f\"there was a problem sending {source} not deleting\")\n",
    "        print(o)\n",
    "\n"
   ]
  }
 ],
 "metadata": {
  "kernelspec": {
   "display_name": "vision",
   "language": "python",
   "name": "python3"
  },
  "language_info": {
   "name": "python",
   "version": "3.11.10"
  }
 },
 "nbformat": 4,
 "nbformat_minor": 2
}
