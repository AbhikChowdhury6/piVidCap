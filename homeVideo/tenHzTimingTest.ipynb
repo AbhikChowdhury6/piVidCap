{
 "cells": [
  {
   "cell_type": "code",
   "execution_count": null,
   "metadata": {},
   "outputs": [],
   "source": [
    "import cv2\n",
    "from datetime import datetime\n",
    "\n",
    "import pandas as pd\n",
    "columns = ['preReadTime', 'postReadTime']\n",
    "metaDf = pd.DataFrame(columns=columns)\n",
    "\n",
    "# Initialize the webcam (0 is the default camera)\n",
    "timeBeforeCapDefined = datetime.now() \n",
    "cap = cv2.VideoCapture(0)\n",
    "timeAfterCapDefined = datetime.now() \n",
    "\n",
    "cap.set(cv2.CAP_PROP_BUFFERSIZE, 1)\n",
    "\n",
    "# Check if the webcam is opened correctly\n",
    "if not cap.isOpened():\n",
    "    print(\"Error: Could not open video.\")\n",
    "    exit()\n",
    "\n",
    "initalFrameReadStart = datetime.now()\n",
    "ret, frame = cap.read()\n",
    "initalFrameReadEnd = datetime.now()\n"
   ]
  },
  {
   "cell_type": "code",
   "execution_count": null,
   "metadata": {},
   "outputs": [],
   "source": []
  },
  {
   "cell_type": "code",
   "execution_count": null,
   "metadata": {},
   "outputs": [],
   "source": []
  }
 ],
 "metadata": {
  "kernelspec": {
   "display_name": "vision",
   "language": "python",
   "name": "python3"
  },
  "language_info": {
   "name": "python",
   "version": "3.11.10"
  }
 },
 "nbformat": 4,
 "nbformat_minor": 2
}
