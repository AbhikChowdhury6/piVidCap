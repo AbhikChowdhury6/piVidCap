{
 "cells": [
  {
   "cell_type": "code",
   "execution_count": 1,
   "metadata": {},
   "outputs": [
    {
     "name": "stdout",
     "output_type": "stream",
     "text": [
      "Ultralytics 8.3.18 🚀 Python-3.11.10 torch-2.5.0+cu124 CPU (AMD Ryzen 5 3600 6-Core Processor)\n",
      "YOLO11n-pose summary (fused): 257 layers, 2,866,468 parameters, 0 gradients, 7.4 GFLOPs\n",
      "\n",
      "\u001b[34m\u001b[1mPyTorch:\u001b[0m starting from 'yolo11n-pose.pt' with input shape (1, 3, 640, 640) BCHW and output shape(s) (1, 56, 8400) (6.0 MB)\n",
      "\n",
      "\u001b[34m\u001b[1mTorchScript:\u001b[0m starting export with torch 2.5.0+cu124...\n",
      "\u001b[34m\u001b[1mTorchScript:\u001b[0m export success ✅ 1.9s, saved as 'yolo11n-pose.torchscript' (11.6 MB)\n",
      "\n",
      "\u001b[34m\u001b[1mNCNN:\u001b[0m starting export with NCNN 1.0.20240820...\n",
      "\u001b[34m\u001b[1mNCNN:\u001b[0m running '/home/chowder/anaconda3/envs/vision/lib/python3.11/site-packages/ultralytics/pnnx yolo11n-pose.torchscript ncnnparam=yolo11n-pose_ncnn_model/model.ncnn.param ncnnbin=yolo11n-pose_ncnn_model/model.ncnn.bin ncnnpy=yolo11n-pose_ncnn_model/model_ncnn.py pnnxparam=yolo11n-pose_ncnn_model/model.pnnx.param pnnxbin=yolo11n-pose_ncnn_model/model.pnnx.bin pnnxpy=yolo11n-pose_ncnn_model/model_pnnx.py pnnxonnx=yolo11n-pose_ncnn_model/model.pnnx.onnx fp16=0 device=cpu inputshape=\"[1, 3, 640, 640]\"'\n"
     ]
    },
    {
     "name": "stderr",
     "output_type": "stream",
     "text": [
      "pnnxparam = yolo11n-pose_ncnn_model/model.pnnx.param\n",
      "pnnxbin = yolo11n-pose_ncnn_model/model.pnnx.bin\n",
      "pnnxpy = yolo11n-pose_ncnn_model/model_pnnx.py\n",
      "pnnxonnx = yolo11n-pose_ncnn_model/model.pnnx.onnx\n",
      "ncnnparam = yolo11n-pose_ncnn_model/model.ncnn.param\n",
      "ncnnbin = yolo11n-pose_ncnn_model/model.ncnn.bin\n",
      "ncnnpy = yolo11n-pose_ncnn_model/model_ncnn.py\n",
      "fp16 = 0\n",
      "optlevel = 2\n",
      "device = cpu\n",
      "inputshape = [1,3,640,640]f32\n",
      "inputshape2 = \n",
      "customop = \n",
      "moduleop = \n",
      "############# pass_level0\n",
      "inline module = torch.nn.modules.linear.Identity\n",
      "inline module = ultralytics.nn.modules.block.Attention\n",
      "inline module = ultralytics.nn.modules.block.Bottleneck\n",
      "inline module = ultralytics.nn.modules.block.C2PSA\n",
      "inline module = ultralytics.nn.modules.block.C3k\n",
      "inline module = ultralytics.nn.modules.block.C3k2\n",
      "inline module = ultralytics.nn.modules.block.DFL\n",
      "inline module = ultralytics.nn.modules.block.PSABlock\n",
      "inline module = ultralytics.nn.modules.block.SPPF\n",
      "inline module = ultralytics.nn.modules.conv.Concat\n",
      "inline module = ultralytics.nn.modules.conv.Conv\n",
      "inline module = ultralytics.nn.modules.conv.DWConv\n",
      "inline module = ultralytics.nn.modules.head.Pose\n",
      "inline module = torch.nn.modules.linear.Identity\n",
      "inline module = ultralytics.nn.modules.block.Attention\n",
      "inline module = ultralytics.nn.modules.block.Bottleneck\n",
      "inline module = ultralytics.nn.modules.block.C2PSA\n",
      "inline module = ultralytics.nn.modules.block.C3k\n",
      "inline module = ultralytics.nn.modules.block.C3k2\n",
      "inline module = ultralytics.nn.modules.block.DFL\n",
      "inline module = ultralytics.nn.modules.block.PSABlock\n",
      "inline module = ultralytics.nn.modules.block.SPPF\n",
      "inline module = ultralytics.nn.modules.conv.Concat\n",
      "inline module = ultralytics.nn.modules.conv.Conv\n",
      "inline module = ultralytics.nn.modules.conv.DWConv\n",
      "inline module = ultralytics.nn.modules.head.Pose\n",
      "\n",
      "----------------\n",
      "\n",
      "############# pass_level1\n",
      "############# pass_level2\n",
      "############# pass_level3\n",
      "############# pass_level4\n",
      "############# pass_level5\n"
     ]
    },
    {
     "name": "stdout",
     "output_type": "stream",
     "text": [
      "\u001b[34m\u001b[1mNCNN:\u001b[0m export success ✅ 2.0s, saved as 'yolo11n-pose_ncnn_model' (11.2 MB)\n",
      "\n",
      "Export complete (4.2s)\n",
      "Results saved to \u001b[1m/home/chowder/Documents/videoProcessing/homeVideo\u001b[0m\n",
      "Predict:         yolo predict task=pose model=yolo11n-pose_ncnn_model imgsz=640  \n",
      "Validate:        yolo val task=pose model=yolo11n-pose_ncnn_model imgsz=640 data=/ultralytics/ultralytics/cfg/datasets/coco-pose.yaml  \n",
      "Visualize:       https://netron.app\n"
     ]
    },
    {
     "name": "stderr",
     "output_type": "stream",
     "text": [
      "############# pass_ncnn\n"
     ]
    }
   ],
   "source": [
    "import cv2\n",
    "from ultralytics import YOLO\n",
    "from datetime import datetime\n",
    "import time\n",
    "\n",
    "import pandas as pd\n",
    "columns = ['preReadTime', 'postReadTime']\n",
    "metaDf = pd.DataFrame(columns=columns)\n",
    "\n",
    "model = YOLO(\"yolo11n-pose.pt\")\n",
    "\n",
    "# Export the model to NCNN format\n",
    "model.export(format=\"ncnn\")  # creates 'yolo11n_ncnn_model'\n",
    "\n",
    "# Load the exported NCNN model\n",
    "ncnn_model = YOLO(\"yolo11n-pose.torchscript\")\n",
    "\n",
    "\n",
    "# Initialize the webcam (0 is the default camera)\n",
    "timeBeforeCapDefined = datetime.now() \n",
    "cap = cv2.VideoCapture(0)\n",
    "timeAfterCapDefined = datetime.now() \n",
    "\n",
    "cap.set(cv2.CAP_PROP_BUFFERSIZE, 1)\n",
    "\n",
    "# Check if the webcam is opened correctly\n",
    "if not cap.isOpened():\n",
    "    print(\"Error: Could not open video.\")\n",
    "    exit()\n",
    "\n",
    "\n",
    "initalFrameReadStart = datetime.now()\n",
    "ret, frame = cap.read()\n",
    "initalFrameReadEnd = datetime.now()\n"
   ]
  },
  {
   "cell_type": "code",
   "execution_count": 2,
   "metadata": {},
   "outputs": [
    {
     "data": {
      "text/plain": [
       "datetime.timedelta(microseconds=268074)"
      ]
     },
     "execution_count": 2,
     "metadata": {},
     "output_type": "execute_result"
    }
   ],
   "source": [
    "timeAfterCapDefined - timeBeforeCapDefined"
   ]
  },
  {
   "cell_type": "code",
   "execution_count": 3,
   "metadata": {},
   "outputs": [
    {
     "data": {
      "text/plain": [
       "datetime.timedelta(seconds=1, microseconds=54519)"
      ]
     },
     "execution_count": 3,
     "metadata": {},
     "output_type": "execute_result"
    }
   ],
   "source": [
    "initalFrameReadEnd - initalFrameReadStart"
   ]
  },
  {
   "cell_type": "code",
   "execution_count": 4,
   "metadata": {},
   "outputs": [],
   "source": [
    "# Define the codec and create a VideoWriter object\n",
    "fourcc = cv2.VideoWriter_fourcc(*'avc1')\n",
    "output = cv2.VideoWriter('output.mp4', fourcc, 30.0, (int(cap.get(3)), int(cap.get(4))))"
   ]
  },
  {
   "cell_type": "code",
   "execution_count": 16,
   "metadata": {},
   "outputs": [],
   "source": [
    "def writeFrames(output, frameList):\n",
    "    for frame in frameList:\n",
    "        output.write(frame)\n",
    "    return True\n",
    "\n",
    "def writeFramesWrapper(args):\n",
    "    return writeFrames(*args)\n",
    "\n",
    "def runYolo(frame):\n",
    "    # return True\n",
    "    print('running yolo')\n",
    "    result = ncnn_model(frame)\n",
    "    print('done running yolo')\n",
    "    return len(result[0].names) > 0\n",
    "\n",
    "def runYoloWrapper(args):\n",
    "    return runYolo(*args)"
   ]
  },
  {
   "cell_type": "code",
   "execution_count": 17,
   "metadata": {},
   "outputs": [
    {
     "name": "stdout",
     "output_type": "stream",
     "text": [
      "running yolo\n",
      "\n",
      "0: 640x640 1 person, 76.4ms\n",
      "Speed: 4.3ms preprocess, 76.4ms inference, 1.0ms postprocess per image at shape (1, 3, 640, 640)\n",
      "done running yolo\n"
     ]
    },
    {
     "data": {
      "text/plain": [
       "True"
      ]
     },
     "execution_count": 17,
     "metadata": {},
     "output_type": "execute_result"
    }
   ],
   "source": [
    "runYolo(frame)"
   ]
  },
  {
   "cell_type": "code",
   "execution_count": 18,
   "metadata": {},
   "outputs": [
    {
     "name": "stdout",
     "output_type": "stream",
     "text": [
      "running yolo\n",
      "\n",
      "about to send for processing\n",
      "sent for processing! in 0:00:00.000450\n",
      "False\n",
      "False\n"
     ]
    },
    {
     "ename": "KeyboardInterrupt",
     "evalue": "",
     "output_type": "error",
     "traceback": [
      "\u001b[0;31m---------------------------------------------------------------------------\u001b[0m",
      "\u001b[0;31mKeyboardInterrupt\u001b[0m                         Traceback (most recent call last)",
      "Cell \u001b[0;32mIn[18], line 10\u001b[0m\n\u001b[1;32m      8\u001b[0m time\u001b[38;5;241m.\u001b[39msleep(\u001b[38;5;241m1\u001b[39m)\n\u001b[1;32m      9\u001b[0m \u001b[38;5;28mprint\u001b[39m(lastFramePeople_result\u001b[38;5;241m.\u001b[39mready())\n\u001b[0;32m---> 10\u001b[0m lfp \u001b[38;5;241m=\u001b[39m \u001b[43mlastFramePeople_result\u001b[49m\u001b[38;5;241;43m.\u001b[39;49m\u001b[43mget\u001b[49m\u001b[43m(\u001b[49m\u001b[43m)\u001b[49m \u001b[38;5;66;03m#this shouldn't take close to 15 seconds\u001b[39;00m\n\u001b[1;32m     11\u001b[0m postModelInferenceTime \u001b[38;5;241m=\u001b[39m datetime\u001b[38;5;241m.\u001b[39mnow()\n\u001b[1;32m     12\u001b[0m \u001b[38;5;28mprint\u001b[39m(\u001b[38;5;124mf\u001b[39m\u001b[38;5;124m\"\u001b[39m\u001b[38;5;124mthe model took \u001b[39m\u001b[38;5;132;01m{\u001b[39;00mpostModelInferenceTime\u001b[38;5;250m \u001b[39m\u001b[38;5;241m-\u001b[39m\u001b[38;5;250m \u001b[39mpreModelInferenceTime\u001b[38;5;132;01m}\u001b[39;00m\u001b[38;5;124m to run\u001b[39m\u001b[38;5;124m\"\u001b[39m)\n",
      "File \u001b[0;32m~/anaconda3/envs/vision/lib/python3.11/multiprocessing/pool.py:768\u001b[0m, in \u001b[0;36mApplyResult.get\u001b[0;34m(self, timeout)\u001b[0m\n\u001b[1;32m    767\u001b[0m \u001b[38;5;28;01mdef\u001b[39;00m \u001b[38;5;21mget\u001b[39m(\u001b[38;5;28mself\u001b[39m, timeout\u001b[38;5;241m=\u001b[39m\u001b[38;5;28;01mNone\u001b[39;00m):\n\u001b[0;32m--> 768\u001b[0m     \u001b[38;5;28;43mself\u001b[39;49m\u001b[38;5;241;43m.\u001b[39;49m\u001b[43mwait\u001b[49m\u001b[43m(\u001b[49m\u001b[43mtimeout\u001b[49m\u001b[43m)\u001b[49m\n\u001b[1;32m    769\u001b[0m     \u001b[38;5;28;01mif\u001b[39;00m \u001b[38;5;129;01mnot\u001b[39;00m \u001b[38;5;28mself\u001b[39m\u001b[38;5;241m.\u001b[39mready():\n\u001b[1;32m    770\u001b[0m         \u001b[38;5;28;01mraise\u001b[39;00m \u001b[38;5;167;01mTimeoutError\u001b[39;00m\n",
      "File \u001b[0;32m~/anaconda3/envs/vision/lib/python3.11/multiprocessing/pool.py:765\u001b[0m, in \u001b[0;36mApplyResult.wait\u001b[0;34m(self, timeout)\u001b[0m\n\u001b[1;32m    764\u001b[0m \u001b[38;5;28;01mdef\u001b[39;00m \u001b[38;5;21mwait\u001b[39m(\u001b[38;5;28mself\u001b[39m, timeout\u001b[38;5;241m=\u001b[39m\u001b[38;5;28;01mNone\u001b[39;00m):\n\u001b[0;32m--> 765\u001b[0m     \u001b[38;5;28;43mself\u001b[39;49m\u001b[38;5;241;43m.\u001b[39;49m\u001b[43m_event\u001b[49m\u001b[38;5;241;43m.\u001b[39;49m\u001b[43mwait\u001b[49m\u001b[43m(\u001b[49m\u001b[43mtimeout\u001b[49m\u001b[43m)\u001b[49m\n",
      "File \u001b[0;32m~/anaconda3/envs/vision/lib/python3.11/threading.py:629\u001b[0m, in \u001b[0;36mEvent.wait\u001b[0;34m(self, timeout)\u001b[0m\n\u001b[1;32m    627\u001b[0m signaled \u001b[38;5;241m=\u001b[39m \u001b[38;5;28mself\u001b[39m\u001b[38;5;241m.\u001b[39m_flag\n\u001b[1;32m    628\u001b[0m \u001b[38;5;28;01mif\u001b[39;00m \u001b[38;5;129;01mnot\u001b[39;00m signaled:\n\u001b[0;32m--> 629\u001b[0m     signaled \u001b[38;5;241m=\u001b[39m \u001b[38;5;28;43mself\u001b[39;49m\u001b[38;5;241;43m.\u001b[39;49m\u001b[43m_cond\u001b[49m\u001b[38;5;241;43m.\u001b[39;49m\u001b[43mwait\u001b[49m\u001b[43m(\u001b[49m\u001b[43mtimeout\u001b[49m\u001b[43m)\u001b[49m\n\u001b[1;32m    630\u001b[0m \u001b[38;5;28;01mreturn\u001b[39;00m signaled\n",
      "File \u001b[0;32m~/anaconda3/envs/vision/lib/python3.11/threading.py:327\u001b[0m, in \u001b[0;36mCondition.wait\u001b[0;34m(self, timeout)\u001b[0m\n\u001b[1;32m    325\u001b[0m \u001b[38;5;28;01mtry\u001b[39;00m:    \u001b[38;5;66;03m# restore state no matter what (e.g., KeyboardInterrupt)\u001b[39;00m\n\u001b[1;32m    326\u001b[0m     \u001b[38;5;28;01mif\u001b[39;00m timeout \u001b[38;5;129;01mis\u001b[39;00m \u001b[38;5;28;01mNone\u001b[39;00m:\n\u001b[0;32m--> 327\u001b[0m         \u001b[43mwaiter\u001b[49m\u001b[38;5;241;43m.\u001b[39;49m\u001b[43macquire\u001b[49m\u001b[43m(\u001b[49m\u001b[43m)\u001b[49m\n\u001b[1;32m    328\u001b[0m         gotit \u001b[38;5;241m=\u001b[39m \u001b[38;5;28;01mTrue\u001b[39;00m\n\u001b[1;32m    329\u001b[0m     \u001b[38;5;28;01melse\u001b[39;00m:\n",
      "\u001b[0;31mKeyboardInterrupt\u001b[0m: "
     ]
    }
   ],
   "source": [
    "from multiprocessing import Pool\n",
    "with Pool() as pool:\n",
    "    preModelInferenceTime = datetime.now()\n",
    "    print('about to send for processing')\n",
    "    lastFramePeople_result = pool.apply_async(runYolo, (frame,))\n",
    "    print(f\"sent for processing! in {datetime.now() - preModelInferenceTime}\")\n",
    "    print(lastFramePeople_result.ready())\n",
    "    time.sleep(1)\n",
    "    print(lastFramePeople_result.ready())\n",
    "    lfp = lastFramePeople_result.get(timeout=3) #this shouldn't take close to 15 seconds\n",
    "    postModelInferenceTime = datetime.now()\n",
    "    print(f\"the model took {postModelInferenceTime - preModelInferenceTime} to run\")"
   ]
  },
  {
   "cell_type": "code",
   "execution_count": 14,
   "metadata": {},
   "outputs": [
    {
     "name": "stdout",
     "output_type": "stream",
     "text": [
      "\n",
      "about to send for processing\n",
      "sent for processing!\n"
     ]
    },
    {
     "ename": "KeyboardInterrupt",
     "evalue": "",
     "output_type": "error",
     "traceback": [
      "\u001b[0;31m---------------------------------------------------------------------------\u001b[0m",
      "\u001b[0;31mKeyboardInterrupt\u001b[0m                         Traceback (most recent call last)",
      "Cell \u001b[0;32mIn[14], line 16\u001b[0m\n\u001b[1;32m     14\u001b[0m lastFramePeople_result \u001b[38;5;241m=\u001b[39m pool\u001b[38;5;241m.\u001b[39mmap_async(runYolo, [frame])\n\u001b[1;32m     15\u001b[0m \u001b[38;5;28mprint\u001b[39m(\u001b[38;5;124m\"\u001b[39m\u001b[38;5;124msent for processing!\u001b[39m\u001b[38;5;124m\"\u001b[39m)\n\u001b[0;32m---> 16\u001b[0m lfp \u001b[38;5;241m=\u001b[39m \u001b[43mlastFramePeople_result\u001b[49m\u001b[38;5;241;43m.\u001b[39;49m\u001b[43mget\u001b[49m\u001b[43m(\u001b[49m\u001b[43m)\u001b[49m \u001b[38;5;66;03m#this shouldn't take close to 15 seconds\u001b[39;00m\n\u001b[1;32m     17\u001b[0m postModelInferenceTime \u001b[38;5;241m=\u001b[39m datetime\u001b[38;5;241m.\u001b[39mnow()\n\u001b[1;32m     18\u001b[0m \u001b[38;5;28mprint\u001b[39m(\u001b[38;5;124mf\u001b[39m\u001b[38;5;124m\"\u001b[39m\u001b[38;5;124mthe model took \u001b[39m\u001b[38;5;132;01m{\u001b[39;00mpostModelInferenceTime\u001b[38;5;250m \u001b[39m\u001b[38;5;241m-\u001b[39m\u001b[38;5;250m \u001b[39mpreModelInferenceTime\u001b[38;5;132;01m}\u001b[39;00m\u001b[38;5;124m to run\u001b[39m\u001b[38;5;124m\"\u001b[39m)\n",
      "File \u001b[0;32m~/anaconda3/envs/vision/lib/python3.11/multiprocessing/pool.py:768\u001b[0m, in \u001b[0;36mApplyResult.get\u001b[0;34m(self, timeout)\u001b[0m\n\u001b[1;32m    767\u001b[0m \u001b[38;5;28;01mdef\u001b[39;00m \u001b[38;5;21mget\u001b[39m(\u001b[38;5;28mself\u001b[39m, timeout\u001b[38;5;241m=\u001b[39m\u001b[38;5;28;01mNone\u001b[39;00m):\n\u001b[0;32m--> 768\u001b[0m     \u001b[38;5;28;43mself\u001b[39;49m\u001b[38;5;241;43m.\u001b[39;49m\u001b[43mwait\u001b[49m\u001b[43m(\u001b[49m\u001b[43mtimeout\u001b[49m\u001b[43m)\u001b[49m\n\u001b[1;32m    769\u001b[0m     \u001b[38;5;28;01mif\u001b[39;00m \u001b[38;5;129;01mnot\u001b[39;00m \u001b[38;5;28mself\u001b[39m\u001b[38;5;241m.\u001b[39mready():\n\u001b[1;32m    770\u001b[0m         \u001b[38;5;28;01mraise\u001b[39;00m \u001b[38;5;167;01mTimeoutError\u001b[39;00m\n",
      "File \u001b[0;32m~/anaconda3/envs/vision/lib/python3.11/multiprocessing/pool.py:765\u001b[0m, in \u001b[0;36mApplyResult.wait\u001b[0;34m(self, timeout)\u001b[0m\n\u001b[1;32m    764\u001b[0m \u001b[38;5;28;01mdef\u001b[39;00m \u001b[38;5;21mwait\u001b[39m(\u001b[38;5;28mself\u001b[39m, timeout\u001b[38;5;241m=\u001b[39m\u001b[38;5;28;01mNone\u001b[39;00m):\n\u001b[0;32m--> 765\u001b[0m     \u001b[38;5;28;43mself\u001b[39;49m\u001b[38;5;241;43m.\u001b[39;49m\u001b[43m_event\u001b[49m\u001b[38;5;241;43m.\u001b[39;49m\u001b[43mwait\u001b[49m\u001b[43m(\u001b[49m\u001b[43mtimeout\u001b[49m\u001b[43m)\u001b[49m\n",
      "File \u001b[0;32m~/anaconda3/envs/vision/lib/python3.11/threading.py:629\u001b[0m, in \u001b[0;36mEvent.wait\u001b[0;34m(self, timeout)\u001b[0m\n\u001b[1;32m    627\u001b[0m signaled \u001b[38;5;241m=\u001b[39m \u001b[38;5;28mself\u001b[39m\u001b[38;5;241m.\u001b[39m_flag\n\u001b[1;32m    628\u001b[0m \u001b[38;5;28;01mif\u001b[39;00m \u001b[38;5;129;01mnot\u001b[39;00m signaled:\n\u001b[0;32m--> 629\u001b[0m     signaled \u001b[38;5;241m=\u001b[39m \u001b[38;5;28;43mself\u001b[39;49m\u001b[38;5;241;43m.\u001b[39;49m\u001b[43m_cond\u001b[49m\u001b[38;5;241;43m.\u001b[39;49m\u001b[43mwait\u001b[49m\u001b[43m(\u001b[49m\u001b[43mtimeout\u001b[49m\u001b[43m)\u001b[49m\n\u001b[1;32m    630\u001b[0m \u001b[38;5;28;01mreturn\u001b[39;00m signaled\n",
      "File \u001b[0;32m~/anaconda3/envs/vision/lib/python3.11/threading.py:327\u001b[0m, in \u001b[0;36mCondition.wait\u001b[0;34m(self, timeout)\u001b[0m\n\u001b[1;32m    325\u001b[0m \u001b[38;5;28;01mtry\u001b[39;00m:    \u001b[38;5;66;03m# restore state no matter what (e.g., KeyboardInterrupt)\u001b[39;00m\n\u001b[1;32m    326\u001b[0m     \u001b[38;5;28;01mif\u001b[39;00m timeout \u001b[38;5;129;01mis\u001b[39;00m \u001b[38;5;28;01mNone\u001b[39;00m:\n\u001b[0;32m--> 327\u001b[0m         \u001b[43mwaiter\u001b[49m\u001b[38;5;241;43m.\u001b[39;49m\u001b[43macquire\u001b[49m\u001b[43m(\u001b[49m\u001b[43m)\u001b[49m\n\u001b[1;32m    328\u001b[0m         gotit \u001b[38;5;241m=\u001b[39m \u001b[38;5;28;01mTrue\u001b[39;00m\n\u001b[1;32m    329\u001b[0m     \u001b[38;5;28;01melse\u001b[39;00m:\n",
      "\u001b[0;31mKeyboardInterrupt\u001b[0m: "
     ]
    }
   ],
   "source": [
    "from multiprocessing import Pool\n",
    "\n",
    "import time\n",
    "frameCount = 0\n",
    "mybuffer = []\n",
    "people = False\n",
    "activeSections = 0\n",
    "\n",
    "\n",
    "with Pool() as pool:\n",
    "\n",
    "    preModelInferenceTime = datetime.now()\n",
    "    print('about to send for processing')\n",
    "    lastFramePeople_result = pool.map_async(runYolo, [frame])\n",
    "    print(\"sent for processing!\")\n",
    "    lfp = lastFramePeople_result.get() #this shouldn't take close to 15 seconds\n",
    "    postModelInferenceTime = datetime.now()\n",
    "    print(f\"the model took {postModelInferenceTime - preModelInferenceTime} to run\")\n",
    "\n",
    "\n",
    "    while frameCount < 2000:\n",
    "        # delay till 100ms\n",
    "        msToDelay = 100 - ((datetime.now().microsecond / 1000) % 100)\n",
    "        time.sleep(msToDelay/1000)\n",
    "        \n",
    "        #logging and frame cap\n",
    "        rowToAdd = {}\n",
    "        lastTimestamp = datetime.now()\n",
    "        rowToAdd['preReadTime'] = lastTimestamp\n",
    "        ret, frame = cap.read()\n",
    "        rowToAdd['postReadTime'] = datetime.now()\n",
    "        metaDf.loc[len(metaDf)] = rowToAdd\n",
    "        mybuffer.append(frame)\n",
    "\n",
    "        if datetime.now().second % 15 == 0 and datetime.now().microsecond < 100_000:\n",
    "            # check the result of the last processed frame\n",
    "            if not lastFramePeople_result.ready(): print(\"waiting for processing\")\n",
    "            lfp = lastFramePeople_result.get() #this shouldn't take close to 15 seconds\n",
    "\n",
    "            # if there was people then consider the last and next 15 seconds as active\n",
    "            if lfp:\n",
    "                activeSections = 2\n",
    "                print('saw someone')\n",
    "            \n",
    "            \n",
    "            if not write_result.ready(): print(\"waiting for processing\")\n",
    "            write_result.get() #this shouldn't take close to 15 seconds\n",
    "            \n",
    "            if activeSections > 0:\n",
    "                #async write all frames up untill this point\n",
    "                write_result = pool.map_async(writeFramesWrapper, [(output, mybuffer)])\n",
    "                activeSections -= 1\n",
    "            else:\n",
    "                # just write mybuffer[-1]\n",
    "                write_result = pool.map_async(writeFramesWrapper, [(output,[mybuffer[-1]])])\n",
    "\n",
    "\n",
    "            # send the most recent frame off for processing\n",
    "            lastFramePeople_result = pool.map_async(runYoloWrapper, [(ncnn_model, mybuffer[-1])])\n",
    "\n",
    "            mybuffer = []\n",
    "\n",
    "\n",
    "        frameCount += 1\n"
   ]
  },
  {
   "cell_type": "code",
   "execution_count": null,
   "metadata": {},
   "outputs": [],
   "source": [
    "# Release the webcam and close the output file\n",
    "cap.release()\n",
    "output.release()"
   ]
  },
  {
   "cell_type": "code",
   "execution_count": 5,
   "metadata": {},
   "outputs": [
    {
     "data": {
      "text/plain": [
       "count    199.000000\n",
       "mean     100.000040\n",
       "std        0.353543\n",
       "min       96.995000\n",
       "25%       99.996000\n",
       "50%      100.000000\n",
       "75%      100.005000\n",
       "max      103.005000\n",
       "Name: timeBetweenReads, dtype: float64"
      ]
     },
     "execution_count": 5,
     "metadata": {},
     "output_type": "execute_result"
    }
   ],
   "source": [
    "metaDf['timeBetweenReads'] =  metaDf['preReadTime'].shift(-1) - metaDf['preReadTime']\n",
    "(metaDf['timeBetweenReads'].dt.total_seconds() * 1000).describe()"
   ]
  },
  {
   "cell_type": "code",
   "execution_count": 6,
   "metadata": {},
   "outputs": [
    {
     "name": "stdout",
     "output_type": "stream",
     "text": [
      "2024-11-01 08:59:07.700074\n",
      "2024-11-01 08:59:07.800073\n",
      "2024-11-01 08:59:07.900072\n",
      "2024-11-01 08:59:08.000073\n",
      "2024-11-01 08:59:08.100188\n",
      "2024-11-01 08:59:08.200069\n",
      "2024-11-01 08:59:08.300065\n",
      "2024-11-01 08:59:08.400065\n",
      "2024-11-01 08:59:08.500073\n",
      "2024-11-01 08:59:08.600184\n",
      "2024-11-01 08:59:08.700077\n",
      "2024-11-01 08:59:08.800075\n",
      "2024-11-01 08:59:08.900122\n",
      "2024-11-01 08:59:09.000077\n",
      "2024-11-01 08:59:09.100074\n",
      "2024-11-01 08:59:09.200074\n",
      "2024-11-01 08:59:09.300074\n",
      "2024-11-01 08:59:09.400070\n",
      "2024-11-01 08:59:09.500074\n",
      "2024-11-01 08:59:09.600064\n",
      "2024-11-01 08:59:09.700073\n",
      "2024-11-01 08:59:09.800077\n",
      "2024-11-01 08:59:09.900079\n",
      "2024-11-01 08:59:10.000077\n",
      "2024-11-01 08:59:10.100073\n",
      "2024-11-01 08:59:10.200081\n",
      "2024-11-01 08:59:10.300073\n",
      "2024-11-01 08:59:10.400076\n",
      "2024-11-01 08:59:10.500075\n",
      "2024-11-01 08:59:10.600072\n",
      "2024-11-01 08:59:10.700074\n",
      "2024-11-01 08:59:10.800077\n",
      "2024-11-01 08:59:10.900074\n",
      "2024-11-01 08:59:11.000081\n",
      "2024-11-01 08:59:11.100078\n",
      "2024-11-01 08:59:11.200077\n",
      "2024-11-01 08:59:11.300076\n",
      "2024-11-01 08:59:11.400085\n",
      "2024-11-01 08:59:11.500081\n",
      "2024-11-01 08:59:11.600077\n",
      "2024-11-01 08:59:11.700070\n",
      "2024-11-01 08:59:11.800072\n",
      "2024-11-01 08:59:11.900082\n",
      "2024-11-01 08:59:12.000073\n",
      "2024-11-01 08:59:12.100072\n",
      "2024-11-01 08:59:12.200081\n",
      "2024-11-01 08:59:12.300096\n",
      "2024-11-01 08:59:12.400076\n",
      "2024-11-01 08:59:12.500094\n",
      "2024-11-01 08:59:12.600074\n",
      "2024-11-01 08:59:12.700079\n",
      "2024-11-01 08:59:12.801800\n",
      "2024-11-01 08:59:12.900081\n",
      "2024-11-01 08:59:13.000074\n",
      "2024-11-01 08:59:13.100093\n",
      "2024-11-01 08:59:13.200084\n",
      "2024-11-01 08:59:13.300093\n",
      "2024-11-01 08:59:13.400095\n",
      "2024-11-01 08:59:13.500082\n",
      "2024-11-01 08:59:13.600091\n",
      "2024-11-01 08:59:13.700097\n",
      "2024-11-01 08:59:13.800073\n",
      "2024-11-01 08:59:13.900073\n",
      "2024-11-01 08:59:14.000072\n",
      "2024-11-01 08:59:14.100074\n",
      "2024-11-01 08:59:14.200074\n",
      "2024-11-01 08:59:14.300074\n",
      "2024-11-01 08:59:14.400134\n",
      "2024-11-01 08:59:14.500066\n",
      "2024-11-01 08:59:14.600073\n",
      "2024-11-01 08:59:14.700079\n",
      "2024-11-01 08:59:14.800073\n",
      "2024-11-01 08:59:14.900078\n",
      "2024-11-01 08:59:15.000075\n",
      "2024-11-01 08:59:15.100073\n",
      "2024-11-01 08:59:15.200087\n",
      "2024-11-01 08:59:15.300074\n",
      "2024-11-01 08:59:15.400082\n",
      "2024-11-01 08:59:15.500081\n",
      "2024-11-01 08:59:15.600081\n",
      "2024-11-01 08:59:15.700086\n",
      "2024-11-01 08:59:15.800079\n",
      "2024-11-01 08:59:15.900083\n",
      "2024-11-01 08:59:16.000080\n",
      "2024-11-01 08:59:16.100087\n",
      "2024-11-01 08:59:16.200077\n",
      "2024-11-01 08:59:16.300081\n",
      "2024-11-01 08:59:16.400091\n",
      "2024-11-01 08:59:16.500080\n",
      "2024-11-01 08:59:16.600090\n",
      "2024-11-01 08:59:16.700076\n",
      "2024-11-01 08:59:16.800081\n",
      "2024-11-01 08:59:16.900074\n",
      "2024-11-01 08:59:17.000079\n",
      "2024-11-01 08:59:17.100071\n",
      "2024-11-01 08:59:17.200071\n",
      "2024-11-01 08:59:17.300070\n",
      "2024-11-01 08:59:17.400072\n",
      "2024-11-01 08:59:17.500082\n",
      "2024-11-01 08:59:17.600072\n",
      "2024-11-01 08:59:17.700077\n",
      "2024-11-01 08:59:17.800067\n",
      "2024-11-01 08:59:17.900069\n",
      "2024-11-01 08:59:18.000072\n",
      "2024-11-01 08:59:18.100084\n",
      "2024-11-01 08:59:18.200074\n",
      "2024-11-01 08:59:18.300072\n",
      "2024-11-01 08:59:18.400079\n",
      "2024-11-01 08:59:18.500075\n",
      "2024-11-01 08:59:18.600076\n",
      "2024-11-01 08:59:18.700075\n",
      "2024-11-01 08:59:18.800082\n",
      "2024-11-01 08:59:18.900074\n",
      "2024-11-01 08:59:19.000063\n",
      "2024-11-01 08:59:19.100072\n",
      "2024-11-01 08:59:19.200633\n",
      "2024-11-01 08:59:19.300075\n",
      "2024-11-01 08:59:19.400074\n",
      "2024-11-01 08:59:19.503079\n",
      "2024-11-01 08:59:19.600074\n",
      "2024-11-01 08:59:19.700072\n",
      "2024-11-01 08:59:19.800075\n",
      "2024-11-01 08:59:19.900074\n",
      "2024-11-01 08:59:20.000076\n",
      "2024-11-01 08:59:20.100079\n",
      "2024-11-01 08:59:20.200079\n",
      "2024-11-01 08:59:20.300079\n",
      "2024-11-01 08:59:20.400074\n",
      "2024-11-01 08:59:20.500075\n",
      "2024-11-01 08:59:20.600076\n",
      "2024-11-01 08:59:20.700074\n",
      "2024-11-01 08:59:20.800077\n",
      "2024-11-01 08:59:20.900090\n",
      "2024-11-01 08:59:21.000079\n",
      "2024-11-01 08:59:21.100075\n",
      "2024-11-01 08:59:21.200078\n",
      "2024-11-01 08:59:21.300075\n",
      "2024-11-01 08:59:21.400084\n",
      "2024-11-01 08:59:21.500077\n",
      "2024-11-01 08:59:21.600079\n",
      "2024-11-01 08:59:21.700083\n",
      "2024-11-01 08:59:21.800085\n",
      "2024-11-01 08:59:21.900080\n",
      "2024-11-01 08:59:22.000088\n",
      "2024-11-01 08:59:22.100074\n",
      "2024-11-01 08:59:22.200073\n",
      "2024-11-01 08:59:22.300070\n",
      "2024-11-01 08:59:22.400072\n",
      "2024-11-01 08:59:22.500082\n",
      "2024-11-01 08:59:22.600074\n",
      "2024-11-01 08:59:22.700071\n",
      "2024-11-01 08:59:22.800072\n",
      "2024-11-01 08:59:22.900072\n",
      "2024-11-01 08:59:23.000076\n",
      "2024-11-01 08:59:23.100074\n",
      "2024-11-01 08:59:23.200080\n",
      "2024-11-01 08:59:23.300074\n",
      "2024-11-01 08:59:23.400074\n",
      "2024-11-01 08:59:23.500080\n",
      "2024-11-01 08:59:23.600078\n",
      "2024-11-01 08:59:23.700084\n",
      "2024-11-01 08:59:23.800095\n",
      "2024-11-01 08:59:23.900077\n",
      "2024-11-01 08:59:24.000082\n",
      "2024-11-01 08:59:24.100086\n",
      "2024-11-01 08:59:24.200075\n",
      "2024-11-01 08:59:24.300073\n",
      "2024-11-01 08:59:24.400078\n",
      "2024-11-01 08:59:24.500076\n",
      "2024-11-01 08:59:24.600073\n",
      "2024-11-01 08:59:24.700066\n",
      "2024-11-01 08:59:24.800071\n",
      "2024-11-01 08:59:24.900073\n",
      "2024-11-01 08:59:25.000069\n",
      "2024-11-01 08:59:25.100076\n",
      "2024-11-01 08:59:25.200073\n",
      "2024-11-01 08:59:25.300186\n",
      "2024-11-01 08:59:25.400071\n",
      "2024-11-01 08:59:25.500074\n",
      "2024-11-01 08:59:25.600075\n",
      "2024-11-01 08:59:25.700229\n",
      "2024-11-01 08:59:25.800077\n",
      "2024-11-01 08:59:25.900075\n",
      "2024-11-01 08:59:26.000082\n",
      "2024-11-01 08:59:26.100074\n",
      "2024-11-01 08:59:26.200079\n",
      "2024-11-01 08:59:26.300078\n",
      "2024-11-01 08:59:26.400072\n",
      "2024-11-01 08:59:26.500086\n",
      "2024-11-01 08:59:26.600072\n",
      "2024-11-01 08:59:26.700066\n",
      "2024-11-01 08:59:26.800070\n",
      "2024-11-01 08:59:26.900077\n",
      "2024-11-01 08:59:27.000071\n",
      "2024-11-01 08:59:27.100071\n",
      "2024-11-01 08:59:27.200064\n",
      "2024-11-01 08:59:27.300064\n",
      "2024-11-01 08:59:27.400067\n",
      "2024-11-01 08:59:27.500072\n",
      "2024-11-01 08:59:27.600082\n"
     ]
    }
   ],
   "source": [
    "for e in metaDf['preReadTime'].tolist():\n",
    "    print(e)"
   ]
  },
  {
   "cell_type": "code",
   "execution_count": null,
   "metadata": {},
   "outputs": [],
   "source": []
  }
 ],
 "metadata": {
  "kernelspec": {
   "display_name": "vision",
   "language": "python",
   "name": "python3"
  },
  "language_info": {
   "codemirror_mode": {
    "name": "ipython",
    "version": 3
   },
   "file_extension": ".py",
   "mimetype": "text/x-python",
   "name": "python",
   "nbconvert_exporter": "python",
   "pygments_lexer": "ipython3",
   "version": "3.11.10"
  }
 },
 "nbformat": 4,
 "nbformat_minor": 2
}
