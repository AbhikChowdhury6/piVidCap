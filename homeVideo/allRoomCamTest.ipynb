{
 "cells": [
  {
   "cell_type": "code",
   "execution_count": null,
   "metadata": {},
   "outputs": [],
   "source": [
    "# what do I want to do in this file?\n",
    "# I want to go through every file in the folder\n",
    "    # every day folder\n",
    "    # every hour folder\n",
    "    # every minute file\n",
    "\n",
    "    # checkpoint and save after every minute file is processed\n",
    "\n",
    "# for every minute file\n",
    "# do OCR on the timestamp at the bottom\n",
    "# look for changes in the timestamp\n",
    "# divide the number of frames by 1 second and get an approximate microsecond that the frame was taken\n",
    "\n",
    "# generate a dataframe\n",
    "\n",
    "# for every frame have a microsecond timestamp\n",
    "# also with a fileLocation and frame number pointer\n",
    "# do we want a tuple of tuples indicating the number of people and the 17 points associated in normalized form\n",
    "    # yeah sounds extesible\n",
    "\n",
    "# now what am I setting up for?\n",
    "    # some simple categories\n",
    "        # sitting\n",
    "        # standing\n",
    "        # lying down\n",
    "        # walking\n",
    "\n",
    "    # activity recognition \n",
    "        # sleeping\n",
    "        # on my phone\n",
    "        # cooking\n",
    "        # eating\n",
    "\n",
    "\n",
    "\n",
    "\n",
    "# first task - tell if there's a person in the frame\n",
    "\n"
   ]
  },
  {
   "cell_type": "code",
   "execution_count": 1,
   "metadata": {},
   "outputs": [],
   "source": [
    "import os\n",
    "import sys\n",
    "def getRepoPath():\n",
    "    cwd = os.getcwd()\n",
    "    delimiter = \"\\\\\" if \"\\\\\" in cwd else \"/\"\n",
    "    repoPath = delimiter.join(cwd.split(delimiter)[:cwd.split(delimiter).index(\"videoProcessing\")]) + delimiter\n",
    "    return repoPath\n",
    "repoPath = getRepoPath()\n",
    "sys.path.append(repoPath + 'videoProcessing/')\n",
    "from utils import workingDataPath, videoDataPath\n",
    "from datetime import date, time, timedelta\n",
    "import pandas as pd\n",
    "import numpy as np"
   ]
  },
  {
   "cell_type": "code",
   "execution_count": 5,
   "metadata": {},
   "outputs": [],
   "source": [
    "def getFileList(daysPath):\n",
    "    fileList = []\n",
    "    for dayFolder in os.listdir(daysPath):\n",
    "        hourFoldersPath = daysPath + dayFolder + '/'\n",
    "        for hourFolder in os.listdir(hourFoldersPath):\n",
    "            for minuteFile in os.listdir(hourFoldersPath + hourFolder + '/'):\n",
    "                # we are looking to build an iso timestring from this info\n",
    "                fileTime = dayFolder + \"T\" + hourFolder + \":\" + minuteFile.split('.')[0] + \":00\"\n",
    "                fileList.append(fileTime)\n",
    "    return fileList"
   ]
  },
  {
   "cell_type": "code",
   "execution_count": 16,
   "metadata": {},
   "outputs": [
    {
     "name": "stdout",
     "output_type": "stream",
     "text": [
      "34526\n",
      "20201230T10:20:00\n"
     ]
    }
   ],
   "source": [
    "daysPath = '/media/chowder/abhiksFiles/personalData/wyzeCams/roomCamBy3dp/'\n",
    "fl = getFileList(daysPath)\n",
    "print(len(fl))\n",
    "print(fl[0])"
   ]
  },
  {
   "cell_type": "code",
   "execution_count": 17,
   "metadata": {},
   "outputs": [
    {
     "data": {
      "text/plain": [
       "'/media/chowder/abhiksFiles/personalData/wyzeCams/roomCamBy3dp/20201230/10/20.mp4'"
      ]
     },
     "execution_count": 17,
     "metadata": {},
     "output_type": "execute_result"
    }
   ],
   "source": [
    "def fileLocation(daysPath, fileListName):\n",
    "    return daysPath + fileListName[:8] + '/' + fileListName[9:11] + '/' + fileListName[12:14] + \".mp4\"\n",
    "fileLocation(daysPath, fl[0])"
   ]
  },
  {
   "cell_type": "code",
   "execution_count": null,
   "metadata": {},
   "outputs": [],
   "source": [
    "import cv2\n",
    "import pytesseract\n",
    "\n",
    "def getTimestampFromWyzeVideo(fileLocation):\n",
    "    # we're going to read in the video\n",
    "    cap = cv2.VideoCapture(fileLocation)\n",
    "    shownTsList = []\n",
    "    while cap.isOpened():\n",
    "        ret, frame = cap.read()\n",
    "        if not ret:\n",
    "            break\n",
    "\n",
    "        img_rgb = cv2.cvtColor(frame, cv2.COLOR_BGR2RGB)\n",
    "\n",
    "\n",
    "\n",
    "    pass"
   ]
  },
  {
   "cell_type": "code",
   "execution_count": null,
   "metadata": {},
   "outputs": [],
   "source": [
    "# we want to make a function that creates an exensible dataframe with metadata about each video file\n",
    "\n",
    "# column names, camLocation, timestamp, frameOffset, we can add more as needed\n",
    "# personLocations, poses, faces, personID\n",
    "columnNames = ['camLocation', 'frameOffset', 'timestamp']\n",
    "\n",
    "workingDataPath"
   ]
  },
  {
   "cell_type": "code",
   "execution_count": null,
   "metadata": {},
   "outputs": [],
   "source": []
  }
 ],
 "metadata": {
  "kernelspec": {
   "display_name": "vision",
   "language": "python",
   "name": "python3"
  },
  "language_info": {
   "codemirror_mode": {
    "name": "ipython",
    "version": 3
   },
   "file_extension": ".py",
   "mimetype": "text/x-python",
   "name": "python",
   "nbconvert_exporter": "python",
   "pygments_lexer": "ipython3",
   "version": "3.11.10"
  }
 },
 "nbformat": 4,
 "nbformat_minor": 2
}
