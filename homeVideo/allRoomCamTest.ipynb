{
 "cells": [
  {
   "cell_type": "code",
   "execution_count": null,
   "metadata": {},
   "outputs": [],
   "source": [
    "# what do I want to do in this file?\n",
    "# I want to go through every file in the folder\n",
    "    # every day folder\n",
    "    # every hour folder\n",
    "    # every minute file\n",
    "\n",
    "    # checkpoint and save after every minute file is processed\n",
    "\n",
    "# for every minute file\n",
    "# do OCR on the timestamp at the bottom\n",
    "# look for changes in the timestamp\n",
    "# divide the number of frames by 1 second and get an approximate microsecond that the frame was taken\n",
    "\n",
    "# generate a dataframe\n",
    "\n",
    "# for every frame have a microsecond timestamp\n",
    "# also with a fileLocation and frame number pointer\n",
    "# do we want a tuple of tuples indicating the number of people and the 17 points associated in normalized form\n",
    "    # yeah sounds extesible\n",
    "\n",
    "# now what am I setting up for?\n",
    "    # some simple categories\n",
    "        # sitting\n",
    "        # standing\n",
    "        # lying down\n",
    "        # walking\n",
    "\n",
    "    # activity recognition \n",
    "        # sleeping\n",
    "        # on my phone\n",
    "        # cooking\n",
    "        # eating\n",
    "\n",
    "\n",
    "\n",
    "\n",
    "# first task - tell if there's a person in the frame\n",
    "\n"
   ]
  },
  {
   "cell_type": "code",
   "execution_count": 1,
   "metadata": {},
   "outputs": [],
   "source": [
    "import os\n",
    "import sys\n",
    "def getRepoPath():\n",
    "    cwd = os.getcwd()\n",
    "    delimiter = \"\\\\\" if \"\\\\\" in cwd else \"/\"\n",
    "    repoPath = delimiter.join(cwd.split(delimiter)[:cwd.split(delimiter).index(\"videoProcessing\")]) + delimiter\n",
    "    return repoPath\n",
    "repoPath = getRepoPath()\n",
    "sys.path.append(repoPath + 'videoProcessing/')\n",
    "from utils import workingDataPath, videoDataPath\n",
    "from datetime import date, time, timedelta\n",
    "import pandas as pd\n",
    "import numpy as np"
   ]
  },
  {
   "cell_type": "code",
   "execution_count": 5,
   "metadata": {},
   "outputs": [],
   "source": [
    "def getFileList(daysPath):\n",
    "    fileList = []\n",
    "    for dayFolder in os.listdir(daysPath):\n",
    "        hourFoldersPath = daysPath + dayFolder + '/'\n",
    "        for hourFolder in os.listdir(hourFoldersPath):\n",
    "            for minuteFile in os.listdir(hourFoldersPath + hourFolder + '/'):\n",
    "                # we are looking to build an iso timestring from this info\n",
    "                fileTime = dayFolder + \"T\" + hourFolder + \":\" + minuteFile.split('.')[0] + \":00\"\n",
    "                fileList.append(fileTime)\n",
    "    return fileList"
   ]
  },
  {
   "cell_type": "code",
   "execution_count": 16,
   "metadata": {},
   "outputs": [
    {
     "name": "stdout",
     "output_type": "stream",
     "text": [
      "34526\n",
      "20201230T10:20:00\n"
     ]
    }
   ],
   "source": [
    "daysPath = '/media/chowder/abhiksFiles/personalData/wyzeCams/roomCamBy3dp/'\n",
    "fl = getFileList(daysPath)\n",
    "print(len(fl))\n",
    "print(fl[0])"
   ]
  },
  {
   "cell_type": "code",
   "execution_count": 17,
   "metadata": {},
   "outputs": [
    {
     "data": {
      "text/plain": [
       "'/media/chowder/abhiksFiles/personalData/wyzeCams/roomCamBy3dp/20201230/10/20.mp4'"
      ]
     },
     "execution_count": 17,
     "metadata": {},
     "output_type": "execute_result"
    }
   ],
   "source": [
    "def fileLocation(daysPath, fileListName):\n",
    "    return daysPath + fileListName[:8] + '/' + fileListName[9:11] + '/' + fileListName[12:14] + \".mp4\"\n",
    "fileLocation(daysPath, fl[0])"
   ]
  },
  {
   "cell_type": "code",
   "execution_count": 29,
   "metadata": {},
   "outputs": [],
   "source": [
    "import cv2\n",
    "import pytesseract\n",
    "\n",
    "def getTimestampsFromWyzeVideo(fileLocation):\n",
    "    # we're going to read in the video\n",
    "    cap = cv2.VideoCapture(fileLocation)\n",
    "    shownTsList = []\n",
    "    frameCount = 0\n",
    "    while cap.isOpened():\n",
    "        # %timeit ret, frame = cap.read()\n",
    "        ret, frame = cap.read()\n",
    "        if not ret:\n",
    "            break\n",
    "        \n",
    "        frameCount += 1\n",
    "        print('read in frame')\n",
    "        # Define the region of interest (ROI) to crop\n",
    "        x1, y1 = 1350, 1000  # Starting coordinates\n",
    "        x2, y2 = 1900, 1080  # Ending coordinates\n",
    "\n",
    "        %timeit cropped_frame = frame[y1:y2, x1:x2]\n",
    "        cropped_frame = frame[y1:y2, x1:x2]\n",
    "        %timeit img_rgb = cv2.cvtColor(cropped_frame, cv2.COLOR_BGR2RGB)\n",
    "        img_rgb = cv2.cvtColor(cropped_frame, cv2.COLOR_BGR2RGB)\n",
    "\n",
    "        custom_config = '--oem 0 --psm 8 -l eng'\n",
    "        %timeit readText = pytesseract.image_to_string(img_rgb, config=custom_config)\n",
    "        readText = pytesseract.image_to_string(img_rgb, config=custom_config) # takes 124ms\n",
    "        shownTsList.append(readText)\n",
    "\n",
    "    return shownTsList\n"
   ]
  },
  {
   "cell_type": "code",
   "execution_count": 30,
   "metadata": {},
   "outputs": [
    {
     "name": "stdout",
     "output_type": "stream",
     "text": [
      "read in frame\n",
      "186 ns ± 2.33 ns per loop (mean ± std. dev. of 7 runs, 10,000,000 loops each)\n",
      "6.25 μs ± 283 ns per loop (mean ± std. dev. of 7 runs, 100,000 loops each)\n",
      "124 ms ± 792 μs per loop (mean ± std. dev. of 7 runs, 10 loops each)\n",
      "read in frame\n",
      "190 ns ± 5.28 ns per loop (mean ± std. dev. of 7 runs, 10,000,000 loops each)\n",
      "6.39 μs ± 400 ns per loop (mean ± std. dev. of 7 runs, 100,000 loops each)\n",
      "124 ms ± 1.52 ms per loop (mean ± std. dev. of 7 runs, 10 loops each)\n",
      "read in frame\n"
     ]
    },
    {
     "ename": "KeyboardInterrupt",
     "evalue": "",
     "output_type": "error",
     "traceback": [
      "\u001b[0;31m---------------------------------------------------------------------------\u001b[0m",
      "\u001b[0;31mKeyboardInterrupt\u001b[0m                         Traceback (most recent call last)",
      "Cell \u001b[0;32mIn[30], line 4\u001b[0m\n\u001b[1;32m      1\u001b[0m \u001b[38;5;66;03m# takes 105 seconds to run on 901 frams\u001b[39;00m\n\u001b[1;32m      2\u001b[0m \u001b[38;5;66;03m# the video is at 15 fps\u001b[39;00m\n\u001b[1;32m      3\u001b[0m testFile \u001b[38;5;241m=\u001b[39m \u001b[38;5;124m'\u001b[39m\u001b[38;5;124m/media/chowder/abhiksFiles/personalData/wyzeCams/roomCamBy3dp/20201230/10/20.mp4\u001b[39m\u001b[38;5;124m'\u001b[39m\n\u001b[0;32m----> 4\u001b[0m parsedTimestamps \u001b[38;5;241m=\u001b[39m \u001b[43mgetTimestampsFromWyzeVideo\u001b[49m\u001b[43m(\u001b[49m\u001b[43mtestFile\u001b[49m\u001b[43m)\u001b[49m\n",
      "Cell \u001b[0;32mIn[29], line 21\u001b[0m, in \u001b[0;36mgetTimestampsFromWyzeVideo\u001b[0;34m(fileLocation)\u001b[0m\n\u001b[1;32m     18\u001b[0m x1, y1 \u001b[38;5;241m=\u001b[39m \u001b[38;5;241m1350\u001b[39m, \u001b[38;5;241m1000\u001b[39m  \u001b[38;5;66;03m# Starting coordinates\u001b[39;00m\n\u001b[1;32m     19\u001b[0m x2, y2 \u001b[38;5;241m=\u001b[39m \u001b[38;5;241m1900\u001b[39m, \u001b[38;5;241m1080\u001b[39m  \u001b[38;5;66;03m# Ending coordinates\u001b[39;00m\n\u001b[0;32m---> 21\u001b[0m \u001b[43mget_ipython\u001b[49m\u001b[43m(\u001b[49m\u001b[43m)\u001b[49m\u001b[38;5;241;43m.\u001b[39;49m\u001b[43mrun_line_magic\u001b[49m\u001b[43m(\u001b[49m\u001b[38;5;124;43m'\u001b[39;49m\u001b[38;5;124;43mtimeit\u001b[39;49m\u001b[38;5;124;43m'\u001b[39;49m\u001b[43m,\u001b[49m\u001b[43m \u001b[49m\u001b[38;5;124;43m'\u001b[39;49m\u001b[38;5;124;43mcropped_frame = frame[y1:y2, x1:x2]\u001b[39;49m\u001b[38;5;124;43m'\u001b[39;49m\u001b[43m)\u001b[49m\n\u001b[1;32m     22\u001b[0m cropped_frame \u001b[38;5;241m=\u001b[39m frame[y1:y2, x1:x2]\n\u001b[1;32m     23\u001b[0m get_ipython()\u001b[38;5;241m.\u001b[39mrun_line_magic(\u001b[38;5;124m'\u001b[39m\u001b[38;5;124mtimeit\u001b[39m\u001b[38;5;124m'\u001b[39m, \u001b[38;5;124m'\u001b[39m\u001b[38;5;124mimg_rgb = cv2.cvtColor(cropped_frame, cv2.COLOR_BGR2RGB)\u001b[39m\u001b[38;5;124m'\u001b[39m)\n",
      "File \u001b[0;32m~/anaconda3/envs/vision/lib/python3.11/site-packages/IPython/core/interactiveshell.py:2480\u001b[0m, in \u001b[0;36mInteractiveShell.run_line_magic\u001b[0;34m(self, magic_name, line, _stack_depth)\u001b[0m\n\u001b[1;32m   2478\u001b[0m     kwargs[\u001b[38;5;124m'\u001b[39m\u001b[38;5;124mlocal_ns\u001b[39m\u001b[38;5;124m'\u001b[39m] \u001b[38;5;241m=\u001b[39m \u001b[38;5;28mself\u001b[39m\u001b[38;5;241m.\u001b[39mget_local_scope(stack_depth)\n\u001b[1;32m   2479\u001b[0m \u001b[38;5;28;01mwith\u001b[39;00m \u001b[38;5;28mself\u001b[39m\u001b[38;5;241m.\u001b[39mbuiltin_trap:\n\u001b[0;32m-> 2480\u001b[0m     result \u001b[38;5;241m=\u001b[39m \u001b[43mfn\u001b[49m\u001b[43m(\u001b[49m\u001b[38;5;241;43m*\u001b[39;49m\u001b[43margs\u001b[49m\u001b[43m,\u001b[49m\u001b[43m \u001b[49m\u001b[38;5;241;43m*\u001b[39;49m\u001b[38;5;241;43m*\u001b[39;49m\u001b[43mkwargs\u001b[49m\u001b[43m)\u001b[49m\n\u001b[1;32m   2482\u001b[0m \u001b[38;5;66;03m# The code below prevents the output from being displayed\u001b[39;00m\n\u001b[1;32m   2483\u001b[0m \u001b[38;5;66;03m# when using magics with decorator @output_can_be_silenced\u001b[39;00m\n\u001b[1;32m   2484\u001b[0m \u001b[38;5;66;03m# when the last Python token in the expression is a ';'.\u001b[39;00m\n\u001b[1;32m   2485\u001b[0m \u001b[38;5;28;01mif\u001b[39;00m \u001b[38;5;28mgetattr\u001b[39m(fn, magic\u001b[38;5;241m.\u001b[39mMAGIC_OUTPUT_CAN_BE_SILENCED, \u001b[38;5;28;01mFalse\u001b[39;00m):\n",
      "File \u001b[0;32m~/anaconda3/envs/vision/lib/python3.11/site-packages/IPython/core/magics/execution.py:1189\u001b[0m, in \u001b[0;36mExecutionMagics.timeit\u001b[0;34m(self, line, cell, local_ns)\u001b[0m\n\u001b[1;32m   1186\u001b[0m         \u001b[38;5;28;01mif\u001b[39;00m time_number \u001b[38;5;241m>\u001b[39m\u001b[38;5;241m=\u001b[39m \u001b[38;5;241m0.2\u001b[39m:\n\u001b[1;32m   1187\u001b[0m             \u001b[38;5;28;01mbreak\u001b[39;00m\n\u001b[0;32m-> 1189\u001b[0m all_runs \u001b[38;5;241m=\u001b[39m \u001b[43mtimer\u001b[49m\u001b[38;5;241;43m.\u001b[39;49m\u001b[43mrepeat\u001b[49m\u001b[43m(\u001b[49m\u001b[43mrepeat\u001b[49m\u001b[43m,\u001b[49m\u001b[43m \u001b[49m\u001b[43mnumber\u001b[49m\u001b[43m)\u001b[49m\n\u001b[1;32m   1190\u001b[0m best \u001b[38;5;241m=\u001b[39m \u001b[38;5;28mmin\u001b[39m(all_runs) \u001b[38;5;241m/\u001b[39m number\n\u001b[1;32m   1191\u001b[0m worst \u001b[38;5;241m=\u001b[39m \u001b[38;5;28mmax\u001b[39m(all_runs) \u001b[38;5;241m/\u001b[39m number\n",
      "File \u001b[0;32m~/anaconda3/envs/vision/lib/python3.11/timeit.py:208\u001b[0m, in \u001b[0;36mTimer.repeat\u001b[0;34m(self, repeat, number)\u001b[0m\n\u001b[1;32m    206\u001b[0m r \u001b[38;5;241m=\u001b[39m []\n\u001b[1;32m    207\u001b[0m \u001b[38;5;28;01mfor\u001b[39;00m i \u001b[38;5;129;01min\u001b[39;00m \u001b[38;5;28mrange\u001b[39m(repeat):\n\u001b[0;32m--> 208\u001b[0m     t \u001b[38;5;241m=\u001b[39m \u001b[38;5;28;43mself\u001b[39;49m\u001b[38;5;241;43m.\u001b[39;49m\u001b[43mtimeit\u001b[49m\u001b[43m(\u001b[49m\u001b[43mnumber\u001b[49m\u001b[43m)\u001b[49m\n\u001b[1;32m    209\u001b[0m     r\u001b[38;5;241m.\u001b[39mappend(t)\n\u001b[1;32m    210\u001b[0m \u001b[38;5;28;01mreturn\u001b[39;00m r\n",
      "File \u001b[0;32m~/anaconda3/envs/vision/lib/python3.11/site-packages/IPython/core/magics/execution.py:173\u001b[0m, in \u001b[0;36mTimer.timeit\u001b[0;34m(self, number)\u001b[0m\n\u001b[1;32m    171\u001b[0m gc\u001b[38;5;241m.\u001b[39mdisable()\n\u001b[1;32m    172\u001b[0m \u001b[38;5;28;01mtry\u001b[39;00m:\n\u001b[0;32m--> 173\u001b[0m     timing \u001b[38;5;241m=\u001b[39m \u001b[38;5;28;43mself\u001b[39;49m\u001b[38;5;241;43m.\u001b[39;49m\u001b[43minner\u001b[49m\u001b[43m(\u001b[49m\u001b[43mit\u001b[49m\u001b[43m,\u001b[49m\u001b[43m \u001b[49m\u001b[38;5;28;43mself\u001b[39;49m\u001b[38;5;241;43m.\u001b[39;49m\u001b[43mtimer\u001b[49m\u001b[43m)\u001b[49m\n\u001b[1;32m    174\u001b[0m \u001b[38;5;28;01mfinally\u001b[39;00m:\n\u001b[1;32m    175\u001b[0m     \u001b[38;5;28;01mif\u001b[39;00m gcold:\n",
      "File \u001b[0;32m<magic-timeit>:1\u001b[0m, in \u001b[0;36minner\u001b[0;34m(_it, _timer)\u001b[0m\n",
      "\u001b[0;31mKeyboardInterrupt\u001b[0m: "
     ]
    }
   ],
   "source": [
    "# takes 105 seconds to run on 901 frams\n",
    "# the video is at 15 fps\n",
    "testFile = '/media/chowder/abhiksFiles/personalData/wyzeCams/roomCamBy3dp/20201230/10/20.mp4'\n",
    "parsedTimestamps = getTimestampsFromWyzeVideo(testFile)\n"
   ]
  },
  {
   "cell_type": "code",
   "execution_count": 21,
   "metadata": {},
   "outputs": [
    {
     "name": "stdout",
     "output_type": "stream",
     "text": [
      "901\n"
     ]
    }
   ],
   "source": [
    "print(len(parsedTimestamps))"
   ]
  },
  {
   "cell_type": "code",
   "execution_count": 24,
   "metadata": {},
   "outputs": [
    {
     "data": {
      "text/plain": [
       "['2020-12-30 10:19:59\\n\\x0c',\n",
       " '2020-12-30 10:19:59\\n\\x0c',\n",
       " '2020-12-30 10:20:00\\n\\x0c',\n",
       " '2020-12-30 10:20:00\\n\\x0c',\n",
       " '2020-12-30 10:20:00\\n\\x0c',\n",
       " '2020-12-30 10:20:00\\n\\x0c',\n",
       " '2020-12-30 10:20:00\\n\\x0c',\n",
       " '2020-12-30 10:20:00\\n\\x0c',\n",
       " '2020-12-30 10:20:00\\n\\x0c',\n",
       " '2020-12-30 10:20:00\\n\\x0c',\n",
       " '2020-12-30 10:20:00\\n\\x0c',\n",
       " '2020-12-30 10:20:00\\n\\x0c',\n",
       " '2020-12-30 10:20:00\\n\\x0c',\n",
       " '2020-12-30 10:20:00\\n\\x0c',\n",
       " '2020-12-30 10:20:00\\n\\x0c',\n",
       " '2020-12-30 10:20:00\\n\\x0c',\n",
       " '2020-12-30 10:20:00\\n\\x0c',\n",
       " '2020-12-30 10:20:01\\n\\x0c',\n",
       " '2020-12-30 10:20:01\\n\\x0c',\n",
       " '2020-12-30 10:20:01\\n\\x0c',\n",
       " '2020-12-30 10:20:01\\n\\x0c',\n",
       " '2020-12-30 10:20:01\\n\\x0c',\n",
       " '2020-12-30 10:20:01\\n\\x0c',\n",
       " '2020-12-30 10:20:01\\n\\x0c',\n",
       " '2020-12-30 10:20:01\\n\\x0c',\n",
       " '2020-12-30 10:20:01\\n\\x0c',\n",
       " '2020-12-30 10:20:01\\n\\x0c',\n",
       " '2020-12-30 10:20:01\\n\\x0c',\n",
       " '2020-12-30 10:20:01\\n\\x0c',\n",
       " '2020-12-30 10:20:01\\n\\x0c',\n",
       " '2020-12-30 10:20:01\\n\\x0c',\n",
       " '2020-12-30 10:20:01\\n\\x0c',\n",
       " '2020-12-30 10:20:02\\n\\x0c',\n",
       " '2020-12-30 10:20:02\\n\\x0c',\n",
       " '2020-12-30 10:20:02\\n\\x0c',\n",
       " '2020-12-30 10:20:02\\n\\x0c',\n",
       " '2020-12-30 10:20:02\\n\\x0c',\n",
       " '2020-12-30 10:20:02\\n\\x0c',\n",
       " '2020-12-30 10:20:02\\n\\x0c',\n",
       " '2020-12-30 10:20:02\\n\\x0c',\n",
       " '2020-12-30 10:20:02\\n\\x0c',\n",
       " '2020-12-30 10:20:02\\n\\x0c',\n",
       " '2020-12-30 10:20:02\\n\\x0c',\n",
       " '2020-12-30 10:20:02\\n\\x0c',\n",
       " '2020-12-30 10:20:02\\n\\x0c',\n",
       " '2020-12-30 10:20:02\\n\\x0c',\n",
       " '2020-12-30 10:20:02\\n\\x0c',\n",
       " '2020-12-30 10:20:03\\n\\x0c',\n",
       " '2020-12-30 10:20:03\\n\\x0c',\n",
       " '2020-12-30 10:20:03\\n\\x0c']"
      ]
     },
     "execution_count": 24,
     "metadata": {},
     "output_type": "execute_result"
    }
   ],
   "source": [
    "parsedTimestamps[:50]"
   ]
  },
  {
   "cell_type": "code",
   "execution_count": 22,
   "metadata": {},
   "outputs": [
    {
     "data": {
      "text/plain": [
       "{'2020-12-30 10:19:59\\n\\x0c',\n",
       " '2020-12-30 10:20:00\\n\\x0c',\n",
       " '2020-12-30 10:20:01\\n\\x0c',\n",
       " '2020-12-30 10:20:02\\n\\x0c',\n",
       " '2020-12-30 10:20:03\\n\\x0c',\n",
       " '2020-12-30 10:20:04\\n\\x0c',\n",
       " '2020-12-30 10:20:05\\n\\x0c',\n",
       " '2020-12-30 10:20:06\\n\\x0c',\n",
       " '2020-12-30 10:20:07\\n\\x0c',\n",
       " '2020-12-30 10:20:08\\n\\x0c',\n",
       " '2020-12-30 10:20:09\\n\\x0c',\n",
       " '2020-12-30 10:20:10\\n\\x0c',\n",
       " '2020-12-30 10:20:11\\n\\x0c',\n",
       " '2020-12-30 10:20:12\\n\\x0c',\n",
       " '2020-12-30 10:20:13\\n\\x0c',\n",
       " '2020-12-30 10:20:14\\n\\x0c',\n",
       " '2020-12-30 10:20:15\\n\\x0c',\n",
       " '2020-12-30 10:20:16\\n\\x0c',\n",
       " '2020-12-30 10:20:17\\n\\x0c',\n",
       " '2020-12-30 10:20:18\\n\\x0c',\n",
       " '2020-12-30 10:20:19\\n\\x0c',\n",
       " '2020-12-30 10:20:20\\n\\x0c',\n",
       " '2020-12-30 10:20:21\\n\\x0c',\n",
       " '2020-12-30 10:20:22\\n\\x0c',\n",
       " '2020-12-30 10:20:23\\n\\x0c',\n",
       " '2020-12-30 10:20:24\\n\\x0c',\n",
       " '2020-12-30 10:20:25\\n\\x0c',\n",
       " '2020-12-30 10:20:26\\n\\x0c',\n",
       " '2020-12-30 10:20:27\\n\\x0c',\n",
       " '2020-12-30 10:20:28\\n\\x0c',\n",
       " '2020-12-30 10:20:29\\n\\x0c',\n",
       " '2020-12-30 10:20:30\\n\\x0c',\n",
       " '2020-12-30 10:20:31\\n\\x0c',\n",
       " '2020-12-30 10:20:32\\n\\x0c',\n",
       " '2020-12-30 10:20:33\\n\\x0c',\n",
       " '2020-12-30 10:20:34\\n\\x0c',\n",
       " '2020-12-30 10:20:35\\n\\x0c',\n",
       " '2020-12-30 10:20:36\\n\\x0c',\n",
       " '2020-12-30 10:20:37\\n\\x0c',\n",
       " '2020-12-30 10:20:38\\n\\x0c',\n",
       " '2020-12-30 10:20:39\\n\\x0c',\n",
       " '2020-12-30 10:20:40\\n\\x0c',\n",
       " '2020-12-30 10:20:41\\n\\x0c',\n",
       " '2020-12-30 10:20:42\\n\\x0c',\n",
       " '2020-12-30 10:20:43\\n\\x0c',\n",
       " '2020-12-30 10:20:44\\n\\x0c',\n",
       " '2020-12-30 10:20:45\\n\\x0c',\n",
       " '2020-12-30 10:20:46\\n\\x0c',\n",
       " '2020-12-30 10:20:47\\n\\x0c',\n",
       " '2020-12-30 10:20:48\\n\\x0c',\n",
       " '2020-12-30 10:20:49\\n\\x0c',\n",
       " '2020-12-30 10:20:50\\n\\x0c',\n",
       " '2020-12-30 10:20:51\\n\\x0c',\n",
       " '2020-12-30 10:20:52\\n\\x0c',\n",
       " '2020-12-30 10:20:53\\n\\x0c',\n",
       " '2020-12-30 10:20:54\\n\\x0c',\n",
       " '2020-12-30 10:20:55\\n\\x0c',\n",
       " '2020-12-30 10:20:56\\n\\x0c',\n",
       " '2020-12-30 10:20:57\\n\\x0c',\n",
       " '2020-12-30 10:20:58\\n\\x0c',\n",
       " '2020-12-30 10:20:59\\n\\x0c'}"
      ]
     },
     "execution_count": 22,
     "metadata": {},
     "output_type": "execute_result"
    }
   ],
   "source": [
    "set(parsedTimestamps)"
   ]
  },
  {
   "cell_type": "code",
   "execution_count": null,
   "metadata": {},
   "outputs": [],
   "source": [
    "# we want to make a function that creates an exensible dataframe with metadata about each video file\n",
    "\n",
    "# column names, camLocation, timestamp, frameOffset, we can add more as needed\n",
    "# personLocations, poses, faces, personID\n",
    "columnNames = ['camLocation', 'frameOffset', 'timestamp']\n",
    "\n",
    "workingDataPath"
   ]
  },
  {
   "cell_type": "code",
   "execution_count": null,
   "metadata": {},
   "outputs": [],
   "source": []
  }
 ],
 "metadata": {
  "kernelspec": {
   "display_name": "vision",
   "language": "python",
   "name": "python3"
  },
  "language_info": {
   "codemirror_mode": {
    "name": "ipython",
    "version": 3
   },
   "file_extension": ".py",
   "mimetype": "text/x-python",
   "name": "python",
   "nbconvert_exporter": "python",
   "pygments_lexer": "ipython3",
   "version": "3.11.10"
  }
 },
 "nbformat": 4,
 "nbformat_minor": 2
}
