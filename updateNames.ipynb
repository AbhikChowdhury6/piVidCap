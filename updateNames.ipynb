{
 "cells": [
  {
   "cell_type": "code",
   "execution_count": 2,
   "metadata": {},
   "outputs": [],
   "source": [
    "import os\n",
    "import shutil\n",
    "#get list of folders in recent captures\n",
    "basePath = \"/home/chowder/Documents/\"\n",
    "rcFolders = os.listdir(basePath + \"collectedData/\")"
   ]
  },
  {
   "cell_type": "code",
   "execution_count": null,
   "metadata": {},
   "outputs": [],
   "source": [
    "# in the captured data area \n",
    "\n",
    "for folder in rcFolders:\n",
    "    fpath = path + folder + \"/\"\n",
    "    for file in os.listdir(fpath):\n",
    "        shutl.move(fpath + file, fpath + \"-\".join([\"deskCam\"].extend(file.split(\"-\")[1:])))\n"
   ]
  }
 ],
 "metadata": {
  "kernelspec": {
   "display_name": "vision",
   "language": "python",
   "name": "python3"
  },
  "language_info": {
   "codemirror_mode": {
    "name": "ipython",
    "version": 3
   },
   "file_extension": ".py",
   "mimetype": "text/x-python",
   "name": "python",
   "nbconvert_exporter": "python",
   "pygments_lexer": "ipython3",
   "version": "3.11.10"
  }
 },
 "nbformat": 4,
 "nbformat_minor": 2
}
