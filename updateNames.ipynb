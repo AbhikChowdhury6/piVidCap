{
 "cells": [
  {
   "cell_type": "code",
   "execution_count": 8,
   "metadata": {},
   "outputs": [],
   "source": [
    "import os\n",
    "import shutil\n",
    "#get list of folders in recent captures\n",
    "basePath = \"/home/chowder/Documents/\"\n",
    "rcFolders = os.listdir(basePath + \"recentCaptures/\")"
   ]
  },
  {
   "cell_type": "code",
   "execution_count": 11,
   "metadata": {},
   "outputs": [],
   "source": [
    "# in the captured data area \n",
    "fileNum = 0\n",
    "for folder in rcFolders:\n",
    "    fpath = basePath + \"recentCaptures/\" + folder + \"/\"\n",
    "    for file in os.listdir(fpath):\n",
    "        oldName = fpath + file\n",
    "        \n",
    "\n",
    "        suffix = \".\" +file.split(\".\")[-1]\n",
    "        file = file[:-len(suffix)]\n",
    "\n",
    "        # change to using underscores\n",
    "        deviceName = file.split(\"-\")[0]\n",
    "        timeToTime = file[len(deviceName)+1:]\n",
    "        date = timeToTime.split(\"T\")[0]\n",
    "        startTime = date + timeToTime.split(date)[1][:-1]\n",
    "        endTime = date + timeToTime.split(date)[-1]\n",
    "        newName = fpath + \"_\".join([deviceName, startTime, endTime]) + suffix\n",
    "        if fileNum % 100 == 0:\n",
    "            print(oldName)\n",
    "            print(newName)\n",
    "        fileNum += 1\n",
    "        shutil.move(oldName, newName)\n"
   ]
  },
  {
   "cell_type": "code",
   "execution_count": 5,
   "metadata": {},
   "outputs": [
    {
     "name": "stdout",
     "output_type": "stream",
     "text": [
      ".mp4\n",
      "bathroomCam-2024-11-14T181915-001407-0700-2024-11-14T212815-000251-0700\n",
      "bathroomCam\n",
      "2024-11-14T181915-001407-0700-2024-11-14T212815-000251-0700\n",
      "2024-11-14\n",
      "['', 'T181915-001407-0700-', 'T212815-000251-0700']\n",
      "2024-11-14T181915-001407-0700\n",
      "2024-11-14T212815-000251-0700\n",
      "bathroomCam_2024-11-14T181915-001407-0700_2024-11-14T212815-000251-0700.mp4\n"
     ]
    }
   ],
   "source": [
    "testName = \"bathroomCam-2024-11-14T181915-001407-0700-2024-11-14T212815-000251-0700.mp4\"\n",
    "fpath = \"\"\n",
    "file = testName\n",
    "\n",
    "\n",
    "suffix = \".\" +file.split(\".\")[-1]\n",
    "print(suffix)\n",
    "file = file[:-len(suffix)]\n",
    "print(file)\n",
    "\n",
    "oldName = fpath + file\n",
    "# change to using underscores\n",
    "deviceName = file.split(\"-\")[0]\n",
    "print(deviceName)\n",
    "timeToTime = file[len(deviceName)+1:]\n",
    "print(timeToTime)\n",
    "date = timeToTime.split(\"T\")[0]\n",
    "print(date)\n",
    "print(timeToTime.split(date))\n",
    "startTime = date + timeToTime.split(date)[1][:-1]\n",
    "print(startTime)\n",
    "endTime = date + timeToTime.split(date)[-1]\n",
    "print(endTime)\n",
    "newName = \"_\".join([deviceName, startTime, endTime]) + suffix\n",
    "print(newName)\n"
   ]
  },
  {
   "cell_type": "code",
   "execution_count": null,
   "metadata": {},
   "outputs": [],
   "source": []
  }
 ],
 "metadata": {
  "kernelspec": {
   "display_name": "vision",
   "language": "python",
   "name": "python3"
  },
  "language_info": {
   "codemirror_mode": {
    "name": "ipython",
    "version": 3
   },
   "file_extension": ".py",
   "mimetype": "text/x-python",
   "name": "python",
   "nbconvert_exporter": "python",
   "pygments_lexer": "ipython3",
   "version": "3.11.10"
  }
 },
 "nbformat": 4,
 "nbformat_minor": 2
}
